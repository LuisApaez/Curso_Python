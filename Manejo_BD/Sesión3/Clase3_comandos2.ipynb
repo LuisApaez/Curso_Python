{
 "cells": [
  {
   "cell_type": "markdown",
   "metadata": {},
   "source": [
    "# Curso manejo de bases de datos con Python\n",
    "\n",
    "**Autor: Luis Fernando Apáez Álvarez**\n",
    "\n",
    "## Clase 3: \n",
    "\n",
    "* [Actualización de registros](#parte1)\n",
    "\n",
    "* [Eliminación de registros](#parte2)"
   ]
  },
  {
   "cell_type": "markdown",
   "metadata": {},
   "source": [
    "En la clase pasada vimos como insertar valores dentro de una tabla, para lo cual creamos la función ``execute_query_insert``:"
   ]
  },
  {
   "cell_type": "code",
   "execution_count": 6,
   "metadata": {},
   "outputs": [],
   "source": [
    "# Primero importamos los paquetes que utilizaremos\n",
    "import psycopg2\n",
    "import pandas as pd\n",
    "\n",
    "def execute_query_insert(query_insert, values_tupla):\n",
    "    try:\n",
    "        # Creamos la conexion\n",
    "        conexion = psycopg2.connect(\n",
    "            user='postgres',\n",
    "            password='31416',\n",
    "            host='127.0.0.1',\n",
    "            port='5432',\n",
    "            database='CursoPostgres')\n",
    "        # Creamos un administrador de contexto para la conexion\n",
    "        # con la base de datos\n",
    "        with conexion:\n",
    "\n",
    "            # Creamos otro administrador para el cursor\n",
    "            with conexion.cursor() as cursor:\n",
    "                # Aquí será donde utilizaremos los parámetros de la función\n",
    "                query = query_insert\n",
    "                values = values_tupla\n",
    "                cursor.execute(query, values)\n",
    "                \n",
    "                # Mostramos un mensaje de que la inserción ha sido exitosa\n",
    "                print(\"Inserción exitosa\")\n",
    "\n",
    "    # Arrojamos un mensaje en caso de error\n",
    "    except Exception as e:\n",
    "        print(f'Ocurrio un error: {e}')\n",
    "\n",
    "    # Finalmente cerramos la conexion y el cursor\n",
    "    finally:\n",
    "        conexion.close()"
   ]
  },
  {
   "cell_type": "markdown",
   "metadata": {},
   "source": [
    "Ahora bien, comenzaremos esta clase viendo cómo actualizar registros en una tabla.\n",
    "\n",
    "## Actualización de registros <a id=\"parte1\"></a>\n",
    "\n",
    "Para esto veamos primero los registros de la tabla ``curso_python`` valiéndonos de la función ``execute_query()`` que creamos antes:"
   ]
  },
  {
   "cell_type": "code",
   "execution_count": 14,
   "metadata": {},
   "outputs": [
    {
     "name": "stdout",
     "output_type": "stream",
     "text": [
      "    0       1       2   3            4\n",
      "0   1    Luis   Apáez  24         CDMX\n",
      "1   2   Pedri   López  14  Guadalajara\n",
      "2   4     Fer    Luna  19         CDMX\n",
      "3  11   Erick  García  19         CDMX\n",
      "4  12  Carlos   López  24  Guadalajara\n",
      "5  13     Ney   López  32      Tijuana\n",
      "6  14    Naye   López  21         CDMX\n",
      "7  15    Alex   López  20         Tula\n",
      "8  16    Iván   López  16   Los Mochis\n",
      "9   3    Juan   Apáez  24       Toluca\n"
     ]
    }
   ],
   "source": [
    "execute_query('SELECT * FROM curso_python')"
   ]
  },
  {
   "cell_type": "markdown",
   "metadata": {},
   "source": [
    "Ahora bien, actualicemos el nombre de ``Luis`` de la tercer fila y coloquemos en su lugar el nombre ``Juan``, para ello emplearemos la misma función para las inserciones"
   ]
  },
  {
   "cell_type": "code",
   "execution_count": 10,
   "metadata": {},
   "outputs": [
    {
     "name": "stdout",
     "output_type": "stream",
     "text": [
      "Inserción exitosa\n"
     ]
    }
   ],
   "source": [
    "execute_query_insert('UPDATE curso_python SET nombre = %s WHERE id_curso=3', ('Juan',))"
   ]
  },
  {
   "cell_type": "markdown",
   "metadata": {},
   "source": [
    "donde es preciso recordar que al momento de escribir el código sql de los valores que deseamos o insertar o actualizar, colocamos en su lugar ``%s`` que actúa como una \"variable\", la cual después toma el valor que ingresamos en la tupla correspondiente al segundo parámetro de la función ``execute_query_insert``. Podemos modificar un poco nuestra función para que diga \"actualización exitosa\" en vez de \"inserción existosa\", para ello"
   ]
  },
  {
   "cell_type": "code",
   "execution_count": 37,
   "metadata": {},
   "outputs": [],
   "source": [
    "# Cambiamos el nombre de la función\n",
    "def execute_query_insert_update(query_insert, values_tupla):\n",
    "    try:\n",
    "        # Creamos la conexion\n",
    "        conexion = psycopg2.connect(\n",
    "            user='postgres',\n",
    "            password='31416',\n",
    "            host='127.0.0.1',\n",
    "            port='5432',\n",
    "            database='CursoPostgres')\n",
    "        # Creamos un administrador de contexto para la conexion\n",
    "        # con la base de datos\n",
    "        with conexion:\n",
    "\n",
    "            # Creamos otro administrador para el cursor\n",
    "            with conexion.cursor() as cursor:\n",
    "                # Aquí será donde utilizaremos los parámetros de la función\n",
    "                query = query_insert\n",
    "                values = values_tupla\n",
    "                cursor.execute(query, values)\n",
    "                \n",
    "                # Mostramos un mensaje de que la inserción ha sido exitosa\n",
    "                # Dividimos la cadena de texto guardada en query\n",
    "                cadena_list = query.split(\" \")\n",
    "                \n",
    "                # Dependiendo de la primer palabra de la sentencia sql \n",
    "                # imprimiremos inserción o actualización exitosa\n",
    "                if cadena_list[0].upper() == \"INSERT\":\n",
    "                    print(\"Inserción exitosa\")\n",
    "                elif cadena_list[0].upper() == \"UPDATE\":\n",
    "                    print(\"Actualización exitosa\")\n",
    "                else:\n",
    "                    print(\"Error!\")\n",
    "    # Arrojamos un mensaje en caso de error\n",
    "    except Exception as e:\n",
    "        print(f'Ocurrio un error: {e}')\n",
    "\n",
    "    # Finalmente cerramos la conexion y el cursor\n",
    "    finally:\n",
    "        conexion.close()"
   ]
  },
  {
   "cell_type": "markdown",
   "metadata": {},
   "source": [
    "Probamos nuestra nueva función, donde actualizaremos el apellido de ``Alex`` correspondiente al id igual a 15"
   ]
  },
  {
   "cell_type": "code",
   "execution_count": 38,
   "metadata": {},
   "outputs": [
    {
     "name": "stdout",
     "output_type": "stream",
     "text": [
      "Actualización exitosa\n"
     ]
    }
   ],
   "source": [
    "execute_query_insert_update('UPDATE curso_python SET apellido = %s WHERE id_curso=15', ('Santander',))"
   ]
  },
  {
   "cell_type": "markdown",
   "metadata": {},
   "source": [
    "vemos los cambios reflejados"
   ]
  },
  {
   "cell_type": "code",
   "execution_count": 39,
   "metadata": {},
   "outputs": [
    {
     "name": "stdout",
     "output_type": "stream",
     "text": [
      "    0     1          2   3     4\n",
      "0  15  Alex  Santander  20  Tula\n"
     ]
    }
   ],
   "source": [
    "execute_query('SELECT * FROM curso_python WHERE id_curso = 15')"
   ]
  },
  {
   "cell_type": "markdown",
   "metadata": {},
   "source": [
    "## Eliminación de registros <a id=\"parte2\"></a>\n",
    "\n",
    "Para eliminar una fila dentro de nuestra tabla podemos ocupar nuevamente la función que creamos anteriormente. El único cambio que efectuaremos será sobre el mensaje de salida el cual, nos gustaría, que fuera \"Eliminación exitosa\" para el caso en que eliminamos una fila. De tal manera"
   ]
  },
  {
   "cell_type": "code",
   "execution_count": 44,
   "metadata": {},
   "outputs": [],
   "source": [
    "# Cambiamos el nombre de la función\n",
    "def execute_query_dml(query_insert, values_tupla):\n",
    "    try:\n",
    "        # Creamos la conexion\n",
    "        conexion = psycopg2.connect(\n",
    "            user='postgres',\n",
    "            password='31416',\n",
    "            host='127.0.0.1',\n",
    "            port='5432',\n",
    "            database='CursoPostgres')\n",
    "        # Creamos un administrador de contexto para la conexion\n",
    "        # con la base de datos\n",
    "        with conexion:\n",
    "\n",
    "            # Creamos otro administrador para el cursor\n",
    "            with conexion.cursor() as cursor:\n",
    "                # Aquí será donde utilizaremos los parámetros de la función\n",
    "                query = query_insert\n",
    "                values = values_tupla\n",
    "                cursor.execute(query, values)\n",
    "                \n",
    "                # Mostramos un mensaje de que la inserción ha sido exitosa\n",
    "                # Dividimos la cadena de texto guardada en query\n",
    "                cadena_list = query.split(\" \")\n",
    "                \n",
    "                # Dependiendo de la primer palabra de la sentencia sql \n",
    "                # imprimiremos inserción o actualización exitosa\n",
    "                if cadena_list[0].upper() == \"INSERT\":\n",
    "                    print(\"Inserción exitosa\")\n",
    "                elif cadena_list[0].upper() == \"UPDATE\":\n",
    "                    print(\"Actualización exitosa\")\n",
    "                elif cadena_list[0].upper() == \"DELETE\":\n",
    "                    print(\"Eliminación exitosa\")\n",
    "                else:\n",
    "                    print(\"Error!\")\n",
    "    # Arrojamos un mensaje en caso de error\n",
    "    except Exception as e:\n",
    "        print(f'Ocurrio un error: {e}')\n",
    "\n",
    "    # Finalmente cerramos la conexion y el cursor\n",
    "    finally:\n",
    "        conexion.close()"
   ]
  },
  {
   "cell_type": "markdown",
   "metadata": {},
   "source": [
    "donde hemos llamada a la última versión de nuestra función como ``execute_query_dml`` refiriéndonos al lenguaje DML (_Data Manipulation Language_) de sql. Probamos nuestra función eliminando la información de la fila 11 de la tabla ``curso_python``: "
   ]
  },
  {
   "cell_type": "code",
   "execution_count": 46,
   "metadata": {},
   "outputs": [
    {
     "name": "stdout",
     "output_type": "stream",
     "text": [
      "Eliminación exitosa\n"
     ]
    }
   ],
   "source": [
    "execute_query_dml('DELETE FROM curso_python WHERE id_curso = %s', (11,))"
   ]
  }
 ],
 "metadata": {
  "kernelspec": {
   "display_name": "Python 3",
   "language": "python",
   "name": "python3"
  },
  "language_info": {
   "codemirror_mode": {
    "name": "ipython",
    "version": 3
   },
   "file_extension": ".py",
   "mimetype": "text/x-python",
   "name": "python",
   "nbconvert_exporter": "python",
   "pygments_lexer": "ipython3",
   "version": "3.7.4"
  }
 },
 "nbformat": 4,
 "nbformat_minor": 4
}
