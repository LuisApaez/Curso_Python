{
 "cells": [
  {
   "cell_type": "markdown",
   "metadata": {},
   "source": [
    "# Curso de introducción a la programación con Python\n",
    "\n",
    "**Autor: Luis Fernando Apáez Álvarez**\n",
    "\n",
    "## Clase 10: Herencia múltiple (Parte IV)\n",
    "\n",
    "* [MRO en python](#parte1)    "
   ]
  },
  {
   "cell_type": "markdown",
   "metadata": {},
   "source": [
    "Mientras nuestro código vaya aumentando de complejidad, puede ocurrir que la herencia (herencia múltiple) tenga muchas líneas jerárquicas. De tal manera, cuando tengamos una instancia de una clase se nos puede presentar el caso en que no sepamos a qué otras clases pertenece. Para ello utilizaremos ``isinstance(<instancia>, <clase>)`` para averiguar si dicha instancia pertenece a otra clase especifica. Por ejemplo, consideremos el código de la sesión anterior"
   ]
  },
  {
   "cell_type": "code",
   "execution_count": 1,
   "metadata": {},
   "outputs": [],
   "source": [
    "# Superclase 1\n",
    "\n",
    "class Figura():\n",
    "    \n",
    "    # Constructor\n",
    "    def __init__(self, ancho, altura):\n",
    "        self.ancho = ancho\n",
    "        self.altura = altura\n",
    "# -------------------------------------------------------------------------        \n",
    "# Superclase 2 \n",
    "\n",
    "class Color():\n",
    "    \n",
    "    # Constructor\n",
    "    def __init__(self, color):\n",
    "        self.color = color\n",
    "\n",
    "# -------------------------------------------------------------------------\n",
    "\n",
    "# Subclase Cuadrado de las superclases Figura y Color\n",
    "\n",
    "class Cuadrado(Figura, Color):\n",
    "    \n",
    "    # Constructor\n",
    "    def __init__(self, lado, color):\n",
    "        \n",
    "        # Sobreescritura del método __init__ correspondiente a la clase Figura\n",
    "        Figura.__init__(self, lado, lado)\n",
    "        \n",
    "        # Sobreescritura del método __init__ correspondiente a la clase Color\n",
    "        Color.__init__(self, color)\n",
    "        \n",
    "    # Método para calcular el área\n",
    "    def area(self):\n",
    "        return self.ancho * self.altura"
   ]
  },
  {
   "cell_type": "markdown",
   "metadata": {},
   "source": [
    "creamos una instancia de la clase _Cuadrado_"
   ]
  },
  {
   "cell_type": "code",
   "execution_count": 2,
   "metadata": {},
   "outputs": [
    {
     "name": "stdout",
     "output_type": "stream",
     "text": [
      "True\n",
      "------------------------------\n",
      "True\n"
     ]
    }
   ],
   "source": [
    "cuadrado1 = Cuadrado(2, 'Azul')\n",
    "\n",
    "# vemos si cuadrado1 pertenece a la clase Figura\n",
    "print(isinstance(cuadrado1, Figura))\n",
    "\n",
    "print('-' * 30)\n",
    "\n",
    "# vemos si cuadrado1 pertenece a la clase Color\n",
    "print(isinstance(cuadrado1, Color))"
   ]
  },
  {
   "cell_type": "markdown",
   "metadata": {},
   "source": [
    "## MRO en Python <a id=\"parte1\"></a>\n",
    "\n",
    "El _método de resolución de orden_ (o _Method Resolution Orden_) es un algoritmo que se utiliza para determinar el orden de búsqueda de métodos en herencia múltiple, donde <span style=\"color:rgb(10,10,150)\">Python</span> calcula la lista MRO para cada clase. Básicamente este método nos permite conocer la jerarquía de clases de la clase en la cual lo invocamos.\n",
    "\n",
    "La lista MRO contiene todas las superclases de un clase, cuyo orden radica en la relación jerárquica entre ellas. Así, cuando necesitemos encontrar un atributo en la cadena de herencia, <span style=\"color:rgb(10,10,150)\">Python</span> buscará de izquierda a derecha en la lista MRO hasta que encuentre la primera clase que coincida con dicho atributo. Para esto último tenemos dos consideraciones\n",
    "* La subclase en cuestión se comprobará antes que cualquier superclase.\n",
    "* Se comprobarán varias superclases según su orden de lista.\n",
    "\n",
    "Por ejemplo, consideremos el siguiente código"
   ]
  },
  {
   "cell_type": "code",
   "execution_count": 5,
   "metadata": {},
   "outputs": [],
   "source": [
    "# Creamos una superclase\n",
    "\n",
    "class Sup_clase:\n",
    "    pass\n",
    "\n",
    "# Creamos la subclase 1        \n",
    "class A(Sup_clase):\n",
    "    pass\n",
    "\n",
    "# Creamos la subclase 2    \n",
    "class B(Sup_clase):\n",
    "    pass\n",
    "\n",
    "# Creamos la subclase 3: subclase de las clases A y B  \n",
    "class C(A,B):\n",
    "    pass"
   ]
  },
  {
   "attachments": {
    "Captura9.PNG": {
     "image/png": "[encoded data removed]"
    }
   },
   "cell_type": "markdown",
   "metadata": {},
   "source": [
    "con lo anterior conseguimos tener tres líneas jerárquicas. \n",
    "\n",
    "![Captura9.PNG](attachment:Captura9.PNG)\n",
    "\n",
    "Luego, podemos ver la lista MRO de la clase _C_ invocando el método ``mro()``"
   ]
  },
  {
   "cell_type": "code",
   "execution_count": 8,
   "metadata": {
    "scrolled": true
   },
   "outputs": [
    {
     "data": {
      "text/plain": [
       "[__main__.C, __main__.A, __main__.B, __main__.Sup_clase, object]"
      ]
     },
     "execution_count": 8,
     "metadata": {},
     "output_type": "execute_result"
    }
   ],
   "source": [
    "C.mro()"
   ]
  },
  {
   "cell_type": "markdown",
   "metadata": {},
   "source": [
    "lo cual muestra primero la clase que invoca el método, después las primeras superclases de la subclase y al final la superclase en la primera línea de jerarquía, así como se muestra en la imagen anterior. \n",
    "\n",
    "Notemos que la lista MRO aparece primero la clase _A_ antes que la _B_ a pesar que tienen el mismo peso jerárquico. El orden que se les ha dado viene del orden en que fueron puestos (de izquierda a derecha) a la hora de declar la clase _C_ ``class C(A,B)``. Por ende, podemos cambiar el orden de la clase _A_ y _B_ en la lista MRO cambiando el orden a la hora de declar la clase _C_, por ejemplo"
   ]
  },
  {
   "cell_type": "code",
   "execution_count": 10,
   "metadata": {},
   "outputs": [],
   "source": [
    "# Creamos una superclase\n",
    "\n",
    "class Sup_clase:\n",
    "    pass\n",
    "\n",
    "# Creamos la subclase 1        \n",
    "class A(Sup_clase):\n",
    "    pass\n",
    "\n",
    "# Creamos la subclase 2    \n",
    "class B(Sup_clase):\n",
    "    pass\n",
    "\n",
    "# Cambiamos C(B,A) en lugar de C(A,B)\n",
    "# Creamos la subclase 3: subclase de las clases A y B  \n",
    "class C(B,A):\n",
    "    pass"
   ]
  },
  {
   "cell_type": "code",
   "execution_count": 11,
   "metadata": {
    "scrolled": true
   },
   "outputs": [
    {
     "data": {
      "text/plain": [
       "[__main__.C, __main__.B, __main__.A, __main__.Sup_clase, object]"
      ]
     },
     "execution_count": 11,
     "metadata": {},
     "output_type": "execute_result"
    }
   ],
   "source": [
    "# Veamos ahora como ha cambiado el orden en la lista MRO\n",
    "C.mro()"
   ]
  },
  {
   "cell_type": "markdown",
   "metadata": {},
   "source": [
    "* hablar de la clase object\n",
    "* regresar al codigo figura y aplicar el mro"
   ]
  },
  {
   "cell_type": "markdown",
   "metadata": {},
   "source": [
    "Debemos mencionar que en ambas listas MRO al final aparece un elemento denominado ``object``, la cual es la **clase principal** en <span style=\"color:rgb(10,10,150)\">Python</span>, o superclase de todas las clases.\n",
    "\n",
    "Por otro lado, recordemos que el objeto ``cuadrado1`` pertenece a la clase ``Cuadrado``, la cual a su vez es subclase de las superclases ``Figura`` y ``Color``, de donde la lista MRO es de la forma ``[__main__.Cuadrado, __main__.Figura, __main__.Color, object]`` de acuerdo a como definimos la herencia múltiple en este caso (recuerda que la clase que invoque el método ``mro()`` será la que ocupe el primer lugar de la lista MRO). En efecto"
   ]
  },
  {
   "cell_type": "code",
   "execution_count": 3,
   "metadata": {},
   "outputs": [
    {
     "data": {
      "text/plain": [
       "[__main__.Cuadrado, __main__.Figura, __main__.Color, object]"
      ]
     },
     "execution_count": 3,
     "metadata": {},
     "output_type": "execute_result"
    }
   ],
   "source": [
    "Cuadrado.mro()"
   ]
  }
 ],
 "metadata": {
  "kernelspec": {
   "display_name": "Python 3",
   "language": "python",
   "name": "python3"
  },
  "language_info": {
   "codemirror_mode": {
    "name": "ipython",
    "version": 3
   },
   "file_extension": ".py",
   "mimetype": "text/x-python",
   "name": "python",
   "nbconvert_exporter": "python",
   "pygments_lexer": "ipython3",
   "version": "3.7.4"
  }
 },
 "nbformat": 4,
 "nbformat_minor": 4
}
