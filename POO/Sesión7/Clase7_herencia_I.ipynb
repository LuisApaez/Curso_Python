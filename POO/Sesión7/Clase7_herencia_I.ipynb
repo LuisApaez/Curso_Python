{
 "cells": [
  {
   "cell_type": "markdown",
   "metadata": {},
   "source": [
    "# Curso de introducción a la programación con Python\n",
    "\n",
    "**Autor: Luis Fernando Apáez Álvarez**\n",
    "\n",
    "## Clase 7: Introducción a la _Herencia_\n",
    "\n",
    "* [Primeros conceptos](#parte1)  \n",
    "* [Clase _Abuelo_](#parte2)  \n",
    "    * [Clase _Hijo_](#parte3)  "
   ]
  },
  {
   "cell_type": "markdown",
   "metadata": {},
   "source": [
    "## Primeros conceptos <a id=\"parte1\"></a>\n",
    "\n",
    "El concepto de _Herencia_ dentro de la POO mantiene la misma idea básica que conocemos del lenguaje común. Por ejemplo, si nos basamos en el árbol genealógico de una persona, podemos decir que el _abuelo_ tiene ciertas características marcadas que heredará a sus hijos, y éstos a su vez a sus hijos; de tal manera el _abuelo_ hereda a sus hijos y a sus nietos ciertas características."
   ]
  },
  {
   "attachments": {
    "Captura.PNG": {
     "image/png": "[encoded data removed]"
    }
   },
   "cell_type": "markdown",
   "metadata": {},
   "source": [
    "![Captura.PNG](attachment:Captura.PNG)"
   ]
  },
  {
   "cell_type": "markdown",
   "metadata": {},
   "source": [
    "Donde claramente la _herencia_ tiene un orden descendente y se basa en niveles jerárquicos (con el _abuelo_ en el primer nivel, su hijo en el segundo nivel y los nietos en el tercer nivel). Lo anterior representa un ejemplo de _herencia_ entre personas, pero podemos llevarlo a un ejemplo de _herencia_ dentro de un lenguaje de programación. Para ello sustituiremos los nombres abuelo, hijo y nietos por **clases**"
   ]
  },
  {
   "attachments": {
    "Captura1.PNG": {
     "image/png": "[encoded data removed]"
    }
   },
   "cell_type": "markdown",
   "metadata": {},
   "source": [
    "![Captura1.PNG](attachment:Captura1.PNG)"
   ]
  },
  {
   "cell_type": "markdown",
   "metadata": {},
   "source": [
    "representadas también dentro de un sistema jerárquico; siendo así que las clases pueden heredar características (atributos y/o métodos) de otras clases. De lo anterior podemos decir que a la ``clase 1`` se le denomina **superclase**, a la ``clase 2`` **subclase** de la ``clase 1`` (simultáneamente, a la ``clase 2`` se le puede denominar superclase de las ``clase 2`` y ``clase 3``); de la misma manera, a la ``clase 3`` y ``clase 4`` las denominamos subclases.\n",
    "\n",
    "Por otro lado, la _herencia_ dentro de la POO sirve para\n",
    "\n",
    "* Definir nuevas clases basándonos en algunas ya existentes, de modo que podemos **reutilizar** código.\n",
    "\n",
    "* Mantener el código mucho más limpio, estructurado y con menos líneas, siendo así éste más eficiente."
   ]
  },
  {
   "cell_type": "markdown",
   "metadata": {},
   "source": [
    "## Clase _Abuelo_ <a id=\"parte2\"></a>"
   ]
  },
  {
   "cell_type": "markdown",
   "metadata": {},
   "source": [
    "Una vez entendidos los primeros conceptos sobre la _herencia_ podemos trabajar el código para crear la superclase _Abuelo_ y la subclase _Hijo_, intentando trasladar el ejemplo de herencia entre personas a conceptos de programación. Para ello escribimos primero:"
   ]
  },
  {
   "cell_type": "code",
   "execution_count": 26,
   "metadata": {},
   "outputs": [],
   "source": [
    "# Creamos la superclase Abuelo\n",
    "\n",
    "class Abuelo():\n",
    "    \n",
    "    # Constructor\n",
    "    \n",
    "    def __init__(self, nombre):\n",
    "        \n",
    "        # Atributos\n",
    "        self.nombre = nombre\n",
    "        self.apellido = 'Apáez'\n",
    "        self.color_ojos = 'negro'\n",
    "        self.color_cabello = 'marrón'\n",
    "        self.tez = 'morena'\n",
    "    \n",
    "        self.hablando = False\n",
    "        self.corriendo = False\n",
    "    \n",
    "    # ------------------------------------------\n",
    "    \n",
    "    # Después los siguientes métodos\n",
    "    \n",
    "    def hablar(self, msj):\n",
    "        self.hablando = True\n",
    "        mensaje = msj\n",
    "        \n",
    "        if self.hablando:\n",
    "            print(mensaje)\n",
    "    \n",
    "    def correr(self):\n",
    "        self.corriendo = True "
   ]
  },
  {
   "cell_type": "markdown",
   "metadata": {},
   "source": [
    "Posteriormente creamos la subclase _Hijo_ la cual heredara los atributos y métodos de la clase _Abuelo_. Debemos aclarar dos puntos\n",
    "\n",
    "1. Trivialmente podemos decir que la subclase _hijo_ hereda los métodos ``hablar()`` y ``correr()`` pues así ocurre en la mayoría de los casos con los hijos.\n",
    "2. Podemos decir que la clase _hijo_ hereda algunos de los atributos marcados en el constructor de la clase _Abuelo_, lo cual si pasa en la herencia entre personas. Por ejemplo, es común que el hijo herede alguna característica del padre, ya sea el color de tez, el color de ojos o de cabello; lo que es claro que el hijo heredará es el apellido paterno. Sin embargo, podemos pensar también que la clase _hijo_ no tendrá el mismo valor en el atributo ``self.color_ojos``, de modo que deberemos realizar las correcciones necesarias para abordar este caso.\n",
    "\n",
    "Ahora bien, creamos la clase _Hijo_ que por el momento no haga nada\n",
    "\n",
    "```\n",
    "# Creamos la clase Hijo\n",
    "\n",
    "class Hijo():\n",
    "    pass\n",
    "```"
   ]
  },
  {
   "cell_type": "markdown",
   "metadata": {},
   "source": [
    "para declarar que la clase _Hijo_ es una subclase de la clase _Abuelo_, bastará con colocar como parámetro de la clase _Hijo_ el nombre de la superclase en cuestión, esto es"
   ]
  },
  {
   "cell_type": "code",
   "execution_count": 2,
   "metadata": {},
   "outputs": [],
   "source": [
    "# Creamos la clase Hijo como subclase de la clase Abuelo\n",
    "\n",
    "class Hijo(Abuelo):\n",
    "    pass"
   ]
  },
  {
   "cell_type": "markdown",
   "metadata": {},
   "source": [
    "Además, cuando instanciemos esta clase deberemos de pasar también un parámetro (``nombre``) que exige el constructor de la clase _Abuelo_ pues recordemos que la subclase _Hijo_ hereda los atributos y métodos de la superclase _Abuelo_. Veamos pues que"
   ]
  },
  {
   "cell_type": "code",
   "execution_count": 16,
   "metadata": {
    "scrolled": true
   },
   "outputs": [
    {
     "name": "stdout",
     "output_type": "stream",
     "text": [
      "------------------------------\n",
      "Apellido de Pedro: Apáez\n",
      "Color de ojos de Pedro: negro\n",
      "Color de cabello Pedro: marrón\n",
      "Tez de Pedro: morena\n",
      "------------------------------\n",
      "Hola!\n"
     ]
    }
   ],
   "source": [
    "# Instanciamos la clase Hijo\n",
    "\n",
    "Pedro = Hijo('Pedro')\n",
    "\n",
    "# Veamos todos los atributos heredados\n",
    "print('-' * 30)\n",
    "\n",
    "print(f'Apellido de {Pedro.nombre}: {Pedro.apellido}')\n",
    "print(f'Color de ojos de {Pedro.nombre}: {Pedro.color_ojos}')\n",
    "print(f'Color de cabello {Pedro.nombre}: {Pedro.color_cabello}')\n",
    "print(f'Tez de {Pedro.nombre}: {Pedro.tez}')\n",
    "\n",
    "print('-' * 30)\n",
    "\n",
    "#Método hablar() heredado\n",
    "Pedro.hablar('Hola!')"
   ]
  },
  {
   "cell_type": "markdown",
   "metadata": {},
   "source": [
    "Suponiendo que el color de ojos de ``Pedro`` es verde en vez de negro, entonces podemos modificar el valor del atributo ``self.color_ojos`` como sabemos hacerlo:"
   ]
  },
  {
   "cell_type": "code",
   "execution_count": 17,
   "metadata": {},
   "outputs": [
    {
     "name": "stdout",
     "output_type": "stream",
     "text": [
      "verdes\n"
     ]
    }
   ],
   "source": [
    "# Modificando el atributo de color de ojos\n",
    "Pedro.color_ojos = 'verdes'\n",
    "\n",
    "# Veamos el resultadob\n",
    "print(Pedro.color_ojos)"
   ]
  },
  {
   "cell_type": "markdown",
   "metadata": {},
   "source": [
    "el cual sólo se verá afectado en el objeto ``Pedro`` y no en los demás objetos. Por ejemplo"
   ]
  },
  {
   "cell_type": "code",
   "execution_count": null,
   "metadata": {},
   "outputs": [],
   "source": [
    "# Creamos otro objeto de la clase Hijo\n",
    "Lalo = Hijo('Lalo')\n",
    "\n",
    "# Veamos el color de ojos de Lalo\n",
    "print(Lalo.color_ojos)"
   ]
  },
  {
   "cell_type": "markdown",
   "metadata": {},
   "source": [
    "## Clase _Hijo_ <a id=\"parte3\"></a>"
   ]
  },
  {
   "cell_type": "markdown",
   "metadata": {},
   "source": [
    "Hasta ahora ya hemos visto como atributos y métodos son heredados a la subclase _Hijo_ provenientes de la superclase _Abuelo_; asimismo, observamos que ciertos atributos de la clase _Abuelo_ son distintos en la clase _Hijo_, donde realizamos (por ejemplo) la modificación pertinente en un objeto en especifico. Posteriormente veremos que la propia clase _Hijo_ puede tener atributos adicionales a los heredados, así como métodos.\n",
    "\n",
    "Por ende, comenzaremos modificando la clase _Hijo_ agregándole algunos otros atributos y métodos:\n",
    "\n",
    "```\n",
    "# Creamos la clase Hijo como subclase de la clase Abuelo\n",
    "\n",
    "class Hijo(Abuelo):\n",
    "    \n",
    "    # Constructor\n",
    "    def __init__(self, num_celular):\n",
    "        \n",
    "        # Atributos\n",
    "        self.num_celular = num_celular\n",
    "        self.idiomas = ['Inglés', 'Francés', 'Italianos']\n",
    "        self.estudiar = False\n",
    "        \n",
    "    # Métodos\n",
    "    def ir_escuela(self):\n",
    "        self.estudiar = True\n",
    "        print('Voy camino a la escuela')\n",
    "```\n",
    "\n",
    "sin embargo el código anterior aún está incompleto. Si bien hemos escrito ``class Hijo(Abuelo)`` para hacer referencia a que la clase _Hijo_ es subclase de la clase _Abuelo_, notemos que la propia clase _Hijo_ tiene un constructor, donde recordemos que esta subclase hereda el constructor de la clase _Abuelo_, por lo que tenemos un pequeño problema respecto a los parámetros de este constructor. Para arreglar el problema debemos de escribir\n",
    "\n",
    "```\n",
    "    # Constructor:\n",
    "    # Agregamos el parámetro (o los parámetros) del constructor de la superclase\n",
    "    \n",
    "    def __init__(self, nombre, num_celular):\n",
    "        \n",
    "        # hacemos referencia de los parámetros de la superclase \n",
    "        super().__init__(nombre)\n",
    "        \n",
    "        # Atributos\n",
    "        self.num_celular = num_celular\n",
    "        self.idiomas = ['Inglés', 'Francés', 'Italianos']\n",
    "        self.estudiar = False\n",
    "```\n",
    "\n",
    "con lo cual tendremos que\n",
    "\n",
    "* En el constructor de la subclase debemos colocar los parámetros marcados en el constructor de la superclase.\n",
    "\n",
    "* Seguido de lo anterior debemos emplear ``super().__init__()`` para marcar dentro del constructor de la subclase cuáles parámetros son referentes al constructor de la superclase. Por ello nosotros colocamos ``super().__init__(nombre)`` pues en la superclase _Abuelo_ el único parámetro que tiene su respectivo constructor es ``nombre``.\n",
    "\n",
    "De tal manera, cuando instanciemos la clase _Hijo_ deberemos ingresar dos parámetros: el primero será un valor para el parámetro ``nombre`` declarado en el constructor de la superclase _abuelo_ y el segundo será un valor para el parámetro ``num_celular`` declarado en el propio constructor de la clase _Hijo_. Veamos"
   ]
  },
  {
   "cell_type": "code",
   "execution_count": 32,
   "metadata": {},
   "outputs": [],
   "source": [
    "# Creamos la clase Hijo como subclase de la clase Abuelo\n",
    "\n",
    "class Hijo(Abuelo):\n",
    "    \n",
    "    # Constructor:\n",
    "    # Agregamos el parámetro (o los parámetros) del constructor de la superclase\n",
    "    \n",
    "    def __init__(self, nombre, num_celular):\n",
    "        \n",
    "        # hacemos referencia de los parámetros de la superclase \n",
    "        super().__init__(nombre)\n",
    "        \n",
    "        # Atributos\n",
    "        self.num_celular = num_celular\n",
    "        self.idiomas = ['Inglés', 'Francés', 'Italianos']\n",
    "        self.estudiar = False\n",
    "        self.pedalear = False\n",
    "        \n",
    "    # Métodos\n",
    "    def ir_escuela(self):\n",
    "        self.estudiar = True\n",
    "        print('Voy camino a la escuela')\n",
    "        \n",
    "    def andar_bici(self):\n",
    "        self.pedalear = True"
   ]
  },
  {
   "cell_type": "code",
   "execution_count": 34,
   "metadata": {},
   "outputs": [],
   "source": [
    "# Creamos otro objeto de la clase Hijo\n",
    "\n",
    "Zin = Hijo('Zin', '520-1789')"
   ]
  },
  {
   "cell_type": "markdown",
   "metadata": {},
   "source": [
    "luego observemos los atributos y métodos propios de la clase _Hijo_ mediante el objeto ``Zin``:"
   ]
  },
  {
   "cell_type": "code",
   "execution_count": 37,
   "metadata": {},
   "outputs": [
    {
     "name": "stdout",
     "output_type": "stream",
     "text": [
      "Algunos datos sobre Zin\n",
      "------------------------------\n",
      "El número telefónico: 520-1789\n",
      "Idiomas en estudio: ['Inglés', 'Francés', 'Italianos']\n",
      "¿Pedaleando? : True\n",
      "¿Estudiando? : True\n",
      "------------------------------\n",
      "¿Pedalenado? : True\n",
      "Voy camino a la escuela\n",
      "¿Estudiando? : True\n",
      "Hola!!\n"
     ]
    }
   ],
   "source": [
    "# Atributo heredado\n",
    "print(f'Algunos datos sobre {Zin.nombre}')\n",
    "print('-' * 30)\n",
    "\n",
    "# Atributos propios\n",
    "\n",
    "print(f'El número telefónico: {Zin.num_celular}')\n",
    "print(f'Idiomas en estudio: {Zin.idiomas}')\n",
    "print(f'¿Pedaleando? : {Zin.pedalear}')\n",
    "print(f'¿Estudiando? : {Zin.estudiar}')\n",
    "print('-' * 30)\n",
    "\n",
    "# Métodos propios\n",
    "\n",
    "Zin.andar_bici()\n",
    "print(f'¿Pedalenado? : {Zin.pedalear}')\n",
    "\n",
    "Zin.ir_escuela()\n",
    "print(f'¿Estudiando? : {Zin.estudiar}')\n",
    "\n",
    "# Método heredado\n",
    "Zin.hablar('Hola!!')"
   ]
  }
 ],
 "metadata": {
  "kernelspec": {
   "display_name": "Python 3",
   "language": "python",
   "name": "python3"
  },
  "language_info": {
   "codemirror_mode": {
    "name": "ipython",
    "version": 3
   },
   "file_extension": ".py",
   "mimetype": "text/x-python",
   "name": "python",
   "nbconvert_exporter": "python",
   "pygments_lexer": "ipython3",
   "version": "3.7.4"
  }
 },
 "nbformat": 4,
 "nbformat_minor": 4
}
