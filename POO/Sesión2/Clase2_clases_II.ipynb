{
 "cells": [
  {
   "cell_type": "markdown",
   "metadata": {},
   "source": [
    "# Curso de introducción a la programación con Python\n",
    "\n",
    "**Autor: Luis FernandoApáez Álvarez**\n",
    "\n",
    "## Clase 2:  Clases y objetos (Parte II)\n",
    "\n",
    "* [Parámetros en los métodos](#parte1)\n",
    "* [Método \\__init\\__ ](#parte2)"
   ]
  },
  {
   "cell_type": "markdown",
   "metadata": {},
   "source": [
    "## Parámetros en los métodos <a id=\"parte1\"></a>\n",
    "\n",
    "Primero recordemos la clase _Persona_ que creamos la sesión pasada:"
   ]
  },
  {
   "cell_type": "code",
   "execution_count": null,
   "metadata": {},
   "outputs": [],
   "source": [
    "# Creamos la clase Persona \n",
    "\n",
    "class Persona():\n",
    "    \n",
    "    # De manera simple podemos agregar estos atributos\n",
    "    \n",
    "    ojos = 2\n",
    "    brazos = 2\n",
    "    piernas = 2\n",
    "    nariz = 1\n",
    "    hablando = False\n",
    "    corriendo = False\n",
    "    \n",
    "    # Después los siguientes métodos\n",
    "    \n",
    "    def hablar(self):\n",
    "        self.hablando = True\n",
    "    \n",
    "    def correr(self):\n",
    "        self.corriendo = True  "
   ]
  },
  {
   "cell_type": "markdown",
   "metadata": {},
   "source": [
    "Ahora, dentro del método ``hablar()`` podemos agregar más parámetros además del parámetro ``self``, pues recordemos que un método no es más que una función dentro de una clase. Por ejemplo, podemos agregar lo siguiente a dicho método"
   ]
  },
  {
   "cell_type": "code",
   "execution_count": 1,
   "metadata": {},
   "outputs": [],
   "source": [
    "# Creamos la clase Persona \n",
    "\n",
    "class Persona():\n",
    "    \n",
    "    # De manera simple podemos agregar estos atributos\n",
    "    \n",
    "    ojos = 2\n",
    "    brazos = 2\n",
    "    piernas = 2\n",
    "    nariz = 1\n",
    "    hablando = False\n",
    "    corriendo = False\n",
    "    \n",
    "    # Después los siguientes métodos\n",
    "    \n",
    "    # agregamos un parámetro\n",
    "    def hablar(self, msj):\n",
    "        self.hablando = True\n",
    "        mensaje = msj\n",
    "        \n",
    "        if self.hablando:\n",
    "            print(mensaje)\n",
    "    \n",
    "    def correr(self):\n",
    "        self.corriendo = True  "
   ]
  },
  {
   "cell_type": "markdown",
   "metadata": {},
   "source": [
    "de tal manera, una vez que instanciamos la clase _persona_ (_i.e._ creamos un objeto de dicha clase) y llamamos al método ``hablar()`` pasándole un parámetro, entonces dicho método nos mostrará en pantalla el mensaje que pasamos por parámetro. Veamos"
   ]
  },
  {
   "cell_type": "code",
   "execution_count": 3,
   "metadata": {},
   "outputs": [
    {
     "name": "stdout",
     "output_type": "stream",
     "text": [
      "Hola, te estoy saludando\n"
     ]
    }
   ],
   "source": [
    "# creamos un objeto\n",
    "\n",
    "Luis = Persona()\n",
    "\n",
    "# llamamos al método hablar()\n",
    "\n",
    "Luis.hablar('Hola, te estoy saludando')"
   ]
  },
  {
   "cell_type": "markdown",
   "metadata": {},
   "source": [
    "## Método \\__init\\__ <a id=\"parte2\"></a>\n",
    "\n",
    "Por otro lado, a las primeras líneas de código dentro de nuestra clase hacen referencia a características comunes que tendrán (por defecto) nuestros objetos\n",
    "\n",
    "```\n",
    "    # De manera simple podemos agregar estos atributos\n",
    "    \n",
    "    ojos = 2\n",
    "    brazos = 2\n",
    "    piernas = 2\n",
    "    nariz = 1\n",
    "    hablando = False\n",
    "    corriendo = False\n",
    "```\n",
    " \n",
    "y que se conoce como **estado inicial**, el cual es ejecutado inmediatamente después de instanciar la clase.\n",
    "\n",
    "A dicho estado inicial lo especificaremos mediante un **constructor** (define la forma en que se crean los objetos). En otras palabras, el **constructor** es un método especial que le da un estado inicial a los objetos. Ahora bien, trabajando con nuestro ejemplo podemos adaptar el código anterior para crear un método **constructor**, para ello utilizaremos la sintaxis básica\n",
    "\n",
    "```\n",
    "def __init__(self):\n",
    "```\n",
    "\n",
    "que indica justamente que estamos creando un método constructor. Así, podemos adaptar el código de nuestro ejemplo como sigue\n",
    "\n",
    "```\n",
    "    # Creamos el constructor \n",
    "    \n",
    "    def __init__(self):\n",
    "        self.ojos = 2\n",
    "        self.brazos = 2\n",
    "        self.piernas = 2\n",
    "        self.nariz = 1\n",
    "        self.hablando = False\n",
    "        self.corriendo = False\n",
    "```\n",
    "\n",
    "Más aún, como ya vimos en la parte inicial de esta sesión podemos colocar parámetros a los métodos. Por ello podemos agregar como un atributo inicial a la clase _Persona_ el nombre que pueda llegar a tomar cada objeto de dicha clase, entre otras cosas más: "
   ]
  },
  {
   "cell_type": "code",
   "execution_count": 4,
   "metadata": {},
   "outputs": [],
   "source": [
    "# Creamos la clase Persona \n",
    "\n",
    "class Persona():\n",
    "    \n",
    "    # Creamos el constructor (método inicializador)\n",
    "    \n",
    "    def __init__(self, nombre):\n",
    "        self.nombre = nombre\n",
    "        self.ojos = 2\n",
    "        self.brazos = 2\n",
    "        self.piernas = 2\n",
    "        self.nariz = 1\n",
    "        self.hablando = False\n",
    "        self.corriendo = False\n",
    "    \n",
    "    # Después los siguientes métodos\n",
    "    \n",
    "    # agregamos un parámetro\n",
    "    def hablar(self, msj):\n",
    "        self.hablando = True\n",
    "        mensaje = msj\n",
    "        \n",
    "        if self.hablando:\n",
    "            print(mensaje)\n",
    "    \n",
    "    def correr(self):\n",
    "        self.corriendo = True "
   ]
  },
  {
   "cell_type": "markdown",
   "metadata": {},
   "source": [
    "Observemos el código ``self.nombre = nombre`` en el cual ``self.nombre`` hace referencia a un atributo y ``nombre`` a la derecha del símbolo ``=`` hace alusión al parámetro del método. Luego, para instanciar una clase deberemos dar un valor correspondiente al parámetro del constructor, por ejemplo "
   ]
  },
  {
   "cell_type": "code",
   "execution_count": 5,
   "metadata": {},
   "outputs": [
    {
     "name": "stdout",
     "output_type": "stream",
     "text": [
      "Luis\n"
     ]
    }
   ],
   "source": [
    "# Creamos un objeto de la clase Persona\n",
    "\n",
    "Luis = Persona('Luis')\n",
    "\n",
    "# accedamos al atributo self.nombre\n",
    "\n",
    "print(Luis.nombre)"
   ]
  },
  {
   "cell_type": "markdown",
   "metadata": {},
   "source": [
    "Finalmente creemos otro objeto:"
   ]
  },
  {
   "cell_type": "code",
   "execution_count": 10,
   "metadata": {},
   "outputs": [
    {
     "name": "stdout",
     "output_type": "stream",
     "text": [
      "Eva\n",
      "False\n",
      "Hola, mi nombre es Eva\n",
      "True\n"
     ]
    }
   ],
   "source": [
    "Eva = Persona('Eva')\n",
    "\n",
    "print(Eva.nombre)\n",
    "\n",
    "# accedemos a un atributo\n",
    "\n",
    "print(Eva.hablando)\n",
    "\n",
    "# invocamos el método hablar\n",
    "\n",
    "Eva.hablar(f'Hola, mi nombre es {Eva.nombre}')\n",
    "\n",
    "print(Eva.hablando)"
   ]
  }
 ],
 "metadata": {
  "kernelspec": {
   "display_name": "Python 3",
   "language": "python",
   "name": "python3"
  },
  "language_info": {
   "codemirror_mode": {
    "name": "ipython",
    "version": 3
   },
   "file_extension": ".py",
   "mimetype": "text/x-python",
   "name": "python",
   "nbconvert_exporter": "python",
   "pygments_lexer": "ipython3",
   "version": "3.7.4"
  }
 },
 "nbformat": 4,
 "nbformat_minor": 4
}
