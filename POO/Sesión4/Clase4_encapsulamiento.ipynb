{
 "cells": [
  {
   "cell_type": "markdown",
   "metadata": {},
   "source": [
    "## Curso de introducción a la programación con Python\n",
    "\n",
    "**Autor: Luis Fernando Apáez Álvarez**\n",
    "\n",
    "## Clase4: Encapsulamiento\n",
    "\n",
    "* [Encapsulando atributos](#parte1)"
   ]
  },
  {
   "cell_type": "markdown",
   "metadata": {},
   "source": [
    "Comenzaremos viendo un ejemplo de una clase, la cual calculará el área de un rectángulo. Para ello"
   ]
  },
  {
   "cell_type": "code",
   "execution_count": 1,
   "metadata": {},
   "outputs": [
    {
     "name": "stdout",
     "output_type": "stream",
     "text": [
      "El área del Rectángulo 1 es: 20\n"
     ]
    }
   ],
   "source": [
    "# Definimos la clase\n",
    "\n",
    "class Area():\n",
    "    \n",
    "    # Definimos el método inicializador\n",
    "    def __init__(self, b, a, nombre):\n",
    "        self.nombre = nombre\n",
    "        self.base = b\n",
    "        self.altura = a\n",
    "        \n",
    "    # Creamos un método para calcular el área\n",
    "    def calcular(self):\n",
    "        return self.base * self.altura\n",
    "\n",
    "# Creamos un objeto de la clase Area\n",
    "r1 = Area(5, 4, 'Rectángulo 1')\n",
    "\n",
    "# Calculamos su área\n",
    "print(f'El área del {r1.nombre} es: {r1.calcular()}')"
   ]
  },
  {
   "cell_type": "markdown",
   "metadata": {},
   "source": [
    "Ahora bien, como mencionamos en la clase pasada, no es una buena práctica permitir la modificación de atributos, como por ejemplo"
   ]
  },
  {
   "cell_type": "code",
   "execution_count": 2,
   "metadata": {},
   "outputs": [
    {
     "name": "stdout",
     "output_type": "stream",
     "text": [
      "7\n"
     ]
    }
   ],
   "source": [
    "r1.base = 7\n",
    "\n",
    "print(r1.base)"
   ]
  },
  {
   "cell_type": "markdown",
   "metadata": {},
   "source": [
    "pues en muchos casos realizar estas acciones podrá traer grandes problemas en el resto del código. Por ejemplo, al calcular ahora el área del rectángulo tendremos que ésta ha cambiado"
   ]
  },
  {
   "cell_type": "code",
   "execution_count": 3,
   "metadata": {},
   "outputs": [
    {
     "name": "stdout",
     "output_type": "stream",
     "text": [
      "28\n"
     ]
    }
   ],
   "source": [
    "print(r1.calcular())"
   ]
  },
  {
   "cell_type": "markdown",
   "metadata": {},
   "source": [
    "la cual ya no representa el área del ``rectángulo 1`` el cual tiene de dimensiones $base = 5$ y $altura=4$. \n",
    "\n",
    "De tal manera surge la necesidad de proteger (o _encapsular_) una propiedad para que no que pueda modificarse desde fuera de la clase."
   ]
  },
  {
   "cell_type": "markdown",
   "metadata": {},
   "source": [
    "## Encapsulando atributos <a id=\"parte1\"></a>\n",
    "\n",
    "Ahora bien, hasta el momento, los atributos que hemos manejado en nuestras clases se conocen como _atributos públicos_, los cuales pueden se consultados y/o modificados fuera de la propia clase. Si deseamos tener atributos que sólo puedan usarse o modificarse dentro de la clase, es decir de _atributos privados_, entonces utilizaremos un guón bajo como prefijo al atributo. Por ejemplo, podemos modificar el código de nuestro ejemplo inicial para hacer que los atributos en el constructor sean privados: "
   ]
  },
  {
   "cell_type": "code",
   "execution_count": 12,
   "metadata": {},
   "outputs": [],
   "source": [
    "# Definimos la clase\n",
    "\n",
    "class Area():\n",
    "    \n",
    "    # Definimos el método inicializador\n",
    "    def __init__(self, b, a, nombre):\n",
    "        \n",
    "        # Definimos los atributos como privados agregando (_)\n",
    "        self._nombre = nombre\n",
    "        self._base = b\n",
    "        self._altura = a\n",
    "        \n",
    "    # Creamos un método para calcular el área\n",
    "    def calcular(self):\n",
    "        \n",
    "        # Para utilizar los atributos en otros métodos\n",
    "        # dentro de la clase debemos de usar también el guión bajo\n",
    "        return self._base * self._altura"
   ]
  },
  {
   "cell_type": "markdown",
   "metadata": {},
   "source": [
    "de esta manera indicaremos a cualquier desarrollador que dichos atributos deben de tratarse como privados y que no deben de ser expuestos o modificados externamente. Cabe aclarar que lo anterior es tan sólo una convención pues, de hecho, aún después de hacer que los atributos sean privados agregando el guión bajo podemos modificarlos externamente. Por ejemplo"
   ]
  },
  {
   "cell_type": "code",
   "execution_count": 13,
   "metadata": {},
   "outputs": [
    {
     "name": "stdout",
     "output_type": "stream",
     "text": [
      "La base de Rectángulo 1 es 5 y la altura es de 4\n"
     ]
    }
   ],
   "source": [
    "# Creamos un objeto de la clase Area\n",
    "\n",
    "r1 = Area(5, 4, 'Rectángulo 1')\n",
    "\n",
    "# veamos el valor de los atributos de dicho objeto\n",
    "# (no debemos olvidar que ahora hay que poner un guión bajo como prefijo)\n",
    "\n",
    "print(f'La base de {r1._nombre} es {r1._base} y la altura es de {r1._altura}')"
   ]
  },
  {
   "cell_type": "code",
   "execution_count": 14,
   "metadata": {},
   "outputs": [
    {
     "name": "stdout",
     "output_type": "stream",
     "text": [
      "Rec 1\n"
     ]
    }
   ],
   "source": [
    "# podemos modificar los atributos desde fuera de la clase\n",
    "# aún cuando hemos declarado que son privados\n",
    "\n",
    "r1._nombre = 'Rec 1'\n",
    "print(r1._nombre)"
   ]
  },
  {
   "cell_type": "markdown",
   "metadata": {},
   "source": [
    "El detalle radica en que para <span style=\"color:rgb(10,10,150)\">Python</span> no hay como tal atributos públicos o privados, de tal manera el guión bajo funge como una convención para el intento de manejo de los atributos privados y para trabajar con éstos.\n",
    "\n",
    "Existe una alternativa para evitar (ahora si) el acceso y modificación de los atributos fuera de la propia clase, la cual radica en colocar doble guión bajo como prefijo. Aunque la función original del doble guión bajo no es la encapsulación, es muy frecuente su utilización para dicho fin. Veamos "
   ]
  },
  {
   "cell_type": "code",
   "execution_count": 15,
   "metadata": {},
   "outputs": [],
   "source": [
    "# Definimos la clase\n",
    "\n",
    "class Area():\n",
    "    \n",
    "    # Definimos el método inicializador\n",
    "    def __init__(self, b, a, nombre):\n",
    "        \n",
    "        # Definimos los atributos como privados agregando (__)\n",
    "        # de modo que no podrán accederlos fuera de esta clase\n",
    "        \n",
    "        self._nombre = nombre\n",
    "        self.__base = b\n",
    "        self.__altura = a\n",
    "        \n",
    "    # Creamos un método para calcular el área\n",
    "    def calcular(self):\n",
    "        \n",
    "        # Para utilizar los atributos en otros métodos\n",
    "        # dentro de la clase debemos de usar también el doble guión bajo\n",
    "        return self.__base * self.__altura"
   ]
  },
  {
   "cell_type": "markdown",
   "metadata": {},
   "source": [
    "con lo anterior no podremos acceder a los atributos ``base`` y ``altura`` con lo cual, al intentar acceder a ellos, obtendremos un error"
   ]
  },
  {
   "cell_type": "code",
   "execution_count": 20,
   "metadata": {
    "scrolled": false
   },
   "outputs": [
    {
     "ename": "AttributeError",
     "evalue": "'Area' object has no attribute '__base'",
     "output_type": "error",
     "traceback": [
      "\u001b[1;31m---------------------------------------------------------------------------\u001b[0m",
      "\u001b[1;31mAttributeError\u001b[0m                            Traceback (most recent call last)",
      "\u001b[1;32m<ipython-input-20-4dc7898e9991>\u001b[0m in \u001b[0;36m<module>\u001b[1;34m\u001b[0m\n\u001b[0;32m      3\u001b[0m \u001b[0mr2\u001b[0m \u001b[1;33m=\u001b[0m \u001b[0mArea\u001b[0m\u001b[1;33m(\u001b[0m\u001b[1;36m2\u001b[0m\u001b[1;33m,\u001b[0m \u001b[1;36m1\u001b[0m\u001b[1;33m,\u001b[0m \u001b[1;34m'Rectángulo 2'\u001b[0m\u001b[1;33m)\u001b[0m\u001b[1;33m\u001b[0m\u001b[1;33m\u001b[0m\u001b[0m\n\u001b[0;32m      4\u001b[0m \u001b[1;33m\u001b[0m\u001b[0m\n\u001b[1;32m----> 5\u001b[1;33m \u001b[0mprint\u001b[0m\u001b[1;33m(\u001b[0m\u001b[0mr2\u001b[0m\u001b[1;33m.\u001b[0m\u001b[0m__base\u001b[0m\u001b[1;33m)\u001b[0m\u001b[1;33m\u001b[0m\u001b[1;33m\u001b[0m\u001b[0m\n\u001b[0m",
      "\u001b[1;31mAttributeError\u001b[0m: 'Area' object has no attribute '__base'"
     ]
    }
   ],
   "source": [
    "# Creamos un objeto de la clase Area\n",
    "\n",
    "r2 = Area(2, 1, 'Rectángulo 2')\n",
    "\n",
    "print(r2.__base)"
   ]
  },
  {
   "cell_type": "markdown",
   "metadata": {},
   "source": [
    "sin embargo si podremos conocer el área de dicho rectángulo, de modo que los atributos dentro de la propia clase funcionan de forma habitual"
   ]
  },
  {
   "cell_type": "code",
   "execution_count": 17,
   "metadata": {
    "scrolled": true
   },
   "outputs": [
    {
     "name": "stdout",
     "output_type": "stream",
     "text": [
      "2\n"
     ]
    }
   ],
   "source": [
    "print(r2.calcular())"
   ]
  },
  {
   "cell_type": "markdown",
   "metadata": {},
   "source": [
    "Si bien lo anterior puede presentar como primer inconveniente el no poder \"ver\" los valores de los atributos de nuestro objeto ``r2``, podemos solucionarlo creando un método para mostrarlos:"
   ]
  },
  {
   "cell_type": "code",
   "execution_count": 25,
   "metadata": {},
   "outputs": [],
   "source": [
    "# Definimos la clase\n",
    "\n",
    "class Area():\n",
    "    \n",
    "    # Definimos el método inicializador\n",
    "    def __init__(self, b, a, nombre):\n",
    "        \n",
    "        # Definimos los atributos como privados agregando (__)\n",
    "        # de modo que no podrán accederlos fuera de esta clase\n",
    "        \n",
    "        self._nombre = nombre\n",
    "        self.__base = b\n",
    "        self.__altura = a\n",
    "        \n",
    "    # Creamos un método para mostrar los atributos \"encapsulados\"\n",
    "    def mostrar_atributos(self):\n",
    "        print(f'La dimensión de la base de {self._nombre} es b = {self.__base}')\n",
    "        print(f'La dimensión de la altura de {self._nombre} es a = {self.__altura}')\n",
    "        \n",
    "    # Creamos un método para calcular el área\n",
    "    def calcular(self):\n",
    "        \n",
    "        # Para utilizar los atributos en otros métodos\n",
    "        # dentro de la clase debemos de usar también el doble guión bajo\n",
    "        return self.__base * self.__altura"
   ]
  },
  {
   "cell_type": "code",
   "execution_count": 26,
   "metadata": {},
   "outputs": [
    {
     "name": "stdout",
     "output_type": "stream",
     "text": [
      "La dimensión de la base de Rectángulo 2 es b = 2\n",
      "La dimensión de la altura de Rectángulo 2 es a = 1\n"
     ]
    }
   ],
   "source": [
    "# Creamos un objeto de la clase Area\n",
    "\n",
    "r2 = Area(2, 1, 'Rectángulo 2')\n",
    "\n",
    "# veamos el valor de los atributos por medio del método mostrar()\n",
    "r2.mostrar_atributos()"
   ]
  },
  {
   "cell_type": "markdown",
   "metadata": {},
   "source": [
    "Para finalizar es preciso mencionar que las variables ``r2.base``, ``r2._base`` y ``r2.__base`` son todas distintas y sólo ``r2.__base`` hace alusión al atributo definido de la clase."
   ]
  }
 ],
 "metadata": {
  "kernelspec": {
   "display_name": "Python 3",
   "language": "python",
   "name": "python3"
  },
  "language_info": {
   "codemirror_mode": {
    "name": "ipython",
    "version": 3
   },
   "file_extension": ".py",
   "mimetype": "text/x-python",
   "name": "python",
   "nbconvert_exporter": "python",
   "pygments_lexer": "ipython3",
   "version": "3.7.4"
  }
 },
 "nbformat": 4,
 "nbformat_minor": 4
}
