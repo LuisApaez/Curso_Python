{
 "cells": [
  {
   "cell_type": "markdown",
   "metadata": {},
   "source": [
    "## Curso de introducción a la programación con Python\n",
    "\n",
    "**Autor: Luis Fernando Apáez Álvarez**\n",
    "\n",
    "## Clase 5: Método Get y Set\n",
    "\n",
    "* [Métodos Get y Set en Python](#parte1)\n",
    "    * [Decorador @Property](#parte2)  "
   ]
  },
  {
   "cell_type": "markdown",
   "metadata": {},
   "source": [
    "Comencemos por retomar el código de la clase _Area_ de la sesión pasada:"
   ]
  },
  {
   "cell_type": "code",
   "execution_count": null,
   "metadata": {},
   "outputs": [],
   "source": [
    "# Definimos la clase\n",
    "\n",
    "class Area():\n",
    "    \n",
    "    # Definimos el método inicializador\n",
    "    def __init__(self, b, a, nombre):\n",
    "        \n",
    "        # Definimos los atributos como privados agregando (__)\n",
    "        \n",
    "        self.__nombre = nombre\n",
    "        self.__base = b\n",
    "        self.__altura = a\n",
    "        \n",
    "    # Creamos un método para mostrar los atributos encapsulados\n",
    "    def mostrar_atributos(self):\n",
    "        print(f'La dimensión de la base de {self.__nombre} es b = {self.__base}')\n",
    "        print(f'La dimensión de la altura de {self.__nombre} es a = {self.__altura}')\n",
    "        \n",
    "    # Creamos un método para calcular el área\n",
    "    def calcular(self):\n",
    "        \n",
    "        # Para utilizar los atributos en otros métodos\n",
    "        # dentro de la clase debemos de usar también el doble guión bajo\n",
    "        return self.__base * self.__altura"
   ]
  },
  {
   "cell_type": "markdown",
   "metadata": {},
   "source": [
    "donde, para poder ver los atributos encapsulados creamos el método ``mostrar_atributos()``, no obstante, existe una manera más propia de realizar dicha acción. Más aún, con los métodos que veremos a continuación podremos acceder y modificar los atributos encapsulados; de tal manera, estos métodos se utilizan por la necesidad de acceder y modificar atributos privados."
   ]
  },
  {
   "cell_type": "markdown",
   "metadata": {},
   "source": [
    "## Métodos Get y Set en Python <a id=\"parte1\"></a>\n",
    "\n",
    "El método _get_ (obtener/recuperar) nos permitirá retornar el valor de una variable encapsulada y el método _set_ (fijar) modificar el valor de dicha variable. Estos métodos surgen de la necesidad de poder acceder y modificar variables (o métodos) encapsuladas cuando así lo necesitemos.\n",
    "\n",
    "Comencemos trabajando con la clase _Punto_:"
   ]
  },
  {
   "cell_type": "code",
   "execution_count": 2,
   "metadata": {},
   "outputs": [],
   "source": [
    "# Definimos la clase Punto\n",
    "\n",
    "class Punto():\n",
    "    \n",
    "    # Creamos el constructor\n",
    "    def __init__(self, x, y):\n",
    "        \n",
    "        # Los atributos deberán estar encapsulados\n",
    "        self.__x = x\n",
    "        self.__y = y\n",
    "        \n",
    "    # Creamos el método get para retornar los atributos\n",
    "    def x(self):\n",
    "        return self.__x\n",
    "    \n",
    "    def y(self):\n",
    "        return self.__y\n",
    "    \n",
    "    # Creamos el método set para modificar el valor de los atributos\n",
    "    # (aquí el nombre set_x del método sólo es ilustrativo pues en realidad\n",
    "    # éste puede llamarse como sea) \n",
    "    \n",
    "    def set_x(self, x):\n",
    "        self.__x = x\n",
    "        \n",
    "    def set_y(self, y):\n",
    "        self.__y = y"
   ]
  },
  {
   "cell_type": "code",
   "execution_count": 4,
   "metadata": {},
   "outputs": [
    {
     "name": "stdout",
     "output_type": "stream",
     "text": [
      "0\n",
      "0\n"
     ]
    }
   ],
   "source": [
    "# Creamos un objeto de la clase Punto\n",
    "\n",
    "p1 = Punto(0,0)\n",
    "\n",
    "# veamos sus atributos por medio del método get\n",
    "\n",
    "print(p1.x())\n",
    "print(p1.y())"
   ]
  },
  {
   "cell_type": "markdown",
   "metadata": {},
   "source": [
    "versus\n",
    "\n",
    "```\n",
    "print(p1.x)\n",
    "print(p1.y)\n",
    "```\n",
    "\n",
    "que escribiríamos si los atributos en el constructor de nuestra clase no estuvieran encapsulados. Continuando"
   ]
  },
  {
   "cell_type": "code",
   "execution_count": 5,
   "metadata": {},
   "outputs": [
    {
     "name": "stdout",
     "output_type": "stream",
     "text": [
      "2\n",
      "6\n"
     ]
    }
   ],
   "source": [
    "# podemos modificar el valor de los atributos a través del método set\n",
    "\n",
    "p1.set_x(2)\n",
    "p1.set_y(6)\n",
    "\n",
    "print(p1.x())\n",
    "print(p1.y())"
   ]
  },
  {
   "cell_type": "markdown",
   "metadata": {},
   "source": [
    "versus\n",
    "\n",
    "```\n",
    "p1.x = 2\n",
    "p1.y = 6\n",
    "\n",
    "print(p1.x)\n",
    "print(p1.y)\n",
    "```\n",
    "\n",
    "que escribiríamos si los atributos en el constructor de nuestra clase no estuvieran encapsulados."
   ]
  },
  {
   "cell_type": "markdown",
   "metadata": {},
   "source": [
    "### Decorador @Property <a id=\"parte2\"></a>\n",
    "\n",
    "Un decorador es un patrón de software que se utiliza para alterar el funcionamiento de una determinada pieza de código.\n",
    "El decorador ``@property`` se utiliza para modificar un método, para que éste se convierta en un atributo o propiedad. Suele ocuparse cuando se trabaja con los métodos ``get`` y ``set``.\n",
    "\n",
    "Cuando encapsulamos una variable deseamos que no sea accesible desde el exterior de una manera no controlada, al utilizar un método ``get`` en conjunto del decorador ``@property`` podremos tratar a dicho método como un atributo. La ventaja de esto es que el acceso a dicho atributo será a través de una función (en específico del método ``get``) el cual provee de un acceso controlado. Ahora bien, podemos modificar ahora la parte del `set``:\n",
    "\n",
    "```\n",
    "    def set_x(self, x):\n",
    "        self.__x = x\n",
    "        \n",
    "    def set_y(self, y):\n",
    "        self.__y = y\n",
    "```\n",
    "\n",
    "valiéndonos de otro decorador que haga referencia, justamente, al método ``set``. Para ello utilizaremos un decorador que llevará el nombre del atributo (sin guiones bajos) y la palabra ``setter`` utilizando la nomenclatura del punto. Esto es \n",
    "\n",
    "```\n",
    "    @x.setter\n",
    "    def x(self, x):\n",
    "        self.__x = x\n",
    "    \n",
    "    @y.setter\n",
    "    def y(self, y):\n",
    "        self.__y = y\n",
    "```\n",
    "De tal manera podemos modificar el código de la clase _Punto_ como sigue "
   ]
  },
  {
   "cell_type": "code",
   "execution_count": 2,
   "metadata": {},
   "outputs": [],
   "source": [
    "# Definimos al clase Punto\n",
    "\n",
    "class Punto():\n",
    "    \n",
    "    # Creamos el constructor\n",
    "    def __init__(self, x, y):\n",
    "        \n",
    "        # Los atributos deberán estar encapsulados\n",
    "        self.__x = x\n",
    "        self.__y = y\n",
    "        \n",
    "    # Creamos el método get para retornar los atributos en conjunto\n",
    "    # del decorador Property\n",
    "    \n",
    "    @property\n",
    "    def x(self):\n",
    "        return self.__x\n",
    "    \n",
    "    @property\n",
    "    def y(self):\n",
    "        return self.__y\n",
    "    \n",
    "    # Creamos el método set para modificar el valor de los atributos\n",
    "    # en conjunto del decorador nombre_del_atributo.setter\n",
    "    \n",
    "    @x.setter\n",
    "    def x(self, x):\n",
    "        self.__x = x\n",
    "    \n",
    "    @y.setter\n",
    "    def y(self, y):\n",
    "        self.__y = y"
   ]
  },
  {
   "cell_type": "markdown",
   "metadata": {},
   "source": [
    "Es gracias a los decoradores que conseguimos distinguir entre las funcionalidades de los métodos ``get`` y ``set``, pues sin éstos caeríamos en el peligro de trabajar con una misma función que realice dos cosas distintas, además una de ellas no pasa parámetros y la otra si. Ahora bien"
   ]
  },
  {
   "cell_type": "code",
   "execution_count": 3,
   "metadata": {},
   "outputs": [
    {
     "name": "stdout",
     "output_type": "stream",
     "text": [
      "0\n",
      "0\n"
     ]
    }
   ],
   "source": [
    "# Creamos un objeto de la clase Punto\n",
    "\n",
    "p1 = Punto(0,0)\n",
    "\n",
    "# veamos sus atributos por medio del método get\n",
    "\n",
    "print(p1.x)\n",
    "print(p1.y)"
   ]
  },
  {
   "cell_type": "markdown",
   "metadata": {},
   "source": [
    "versus \n",
    "\n",
    "```\n",
    "print(p1.x())\n",
    "print(p1.y())\n",
    "```\n",
    "\n",
    "que escribíamos sin utilizar decoradores. Continuando"
   ]
  },
  {
   "cell_type": "code",
   "execution_count": 4,
   "metadata": {},
   "outputs": [
    {
     "name": "stdout",
     "output_type": "stream",
     "text": [
      "2\n",
      "6\n"
     ]
    }
   ],
   "source": [
    "# podemos modificar el valor de los atributos a través del método set\n",
    "\n",
    "p1.x = 2\n",
    "p1.y = 6\n",
    "\n",
    "print(p1.x)\n",
    "print(p1.y)"
   ]
  },
  {
   "cell_type": "markdown",
   "metadata": {},
   "source": [
    "versus \n",
    "\n",
    "```\n",
    "p1.set_x(2)\n",
    "p1.set_y(6)\n",
    "\n",
    "print(p1.x())\n",
    "print(p1.y())\n",
    "```"
   ]
  },
  {
   "cell_type": "markdown",
   "metadata": {},
   "source": [
    "que escribíamos sin utilizar el decorador ``nombre_del_atributo.setter``. Finalmente, podemos modificar el código de la clase _Area_ implementando el conocimiento que hemos adquirido: "
   ]
  },
  {
   "cell_type": "code",
   "execution_count": 7,
   "metadata": {},
   "outputs": [],
   "source": [
    "# Definimos la clase\n",
    "\n",
    "class Area():\n",
    "    \n",
    "    # Definimos el método inicializador\n",
    "    def __init__(self, b, a, nombre):\n",
    "        \n",
    "        # Definimos los atributos como privados agregando (__)\n",
    "        \n",
    "        self.__nombre = nombre\n",
    "        self.__base = b\n",
    "        self.__altura = a\n",
    "        \n",
    "    # Implementamos los getters\n",
    "    @property\n",
    "    def nombre(self):\n",
    "        return self.__nombre\n",
    "        \n",
    "    @property \n",
    "    def base(self):\n",
    "        return self.__base\n",
    "\n",
    "    @property\n",
    "    def altura(self):\n",
    "        return self.__altura\n",
    "    \n",
    "    # Implemenatamos los setters\n",
    "    @nombre.setter\n",
    "    def nombre(self, nombre):\n",
    "        self.__nombre = nombre\n",
    "    \n",
    "    @base.setter\n",
    "    def base(self, b):\n",
    "        self.__base = b\n",
    "\n",
    "    @altura.setter\n",
    "    def altura(self, a):\n",
    "        self.__altura = a\n",
    "        \n",
    "    # Creamos un método para calcular el área\n",
    "    def calcular(self):\n",
    "        \n",
    "        # Para utilizar los atributos en otros métodos\n",
    "        # dentro de la clase debemos de usar también el doble guión bajo\n",
    "        return self.__base * self.__altura"
   ]
  },
  {
   "cell_type": "code",
   "execution_count": 9,
   "metadata": {},
   "outputs": [
    {
     "name": "stdout",
     "output_type": "stream",
     "text": [
      "Rectángulo 1\n",
      "5\n",
      "4\n",
      "20\n"
     ]
    }
   ],
   "source": [
    "# Creamos un objeto de la clase Area\n",
    "r1 = Area(5,4, 'Rectángulo 1')\n",
    "\n",
    "# Accedemos a sus atributos\n",
    "print(r1.nombre)\n",
    "print(r1.base)\n",
    "print(r1.altura)\n",
    "\n",
    "# Calculamos el área\n",
    "print(r1.calcular())"
   ]
  },
  {
   "cell_type": "code",
   "execution_count": 10,
   "metadata": {
    "scrolled": true
   },
   "outputs": [
    {
     "name": "stdout",
     "output_type": "stream",
     "text": [
      "Rec 1\n",
      "7\n",
      "8\n",
      "56\n"
     ]
    }
   ],
   "source": [
    "# Modificamos los atributos por medio de los setter\n",
    "\n",
    "r1.nombre = 'Rec 1'\n",
    "r1.base = 7\n",
    "r1.altura = 8\n",
    "\n",
    "# Accedemos a sus atributos\n",
    "print(r1.nombre)\n",
    "print(r1.base)\n",
    "print(r1.altura)\n",
    "\n",
    "# Calculamos el área\n",
    "print(r1.calcular())"
   ]
  }
 ],
 "metadata": {
  "kernelspec": {
   "display_name": "Python 3",
   "language": "python",
   "name": "python3"
  },
  "language_info": {
   "codemirror_mode": {
    "name": "ipython",
    "version": 3
   },
   "file_extension": ".py",
   "mimetype": "text/x-python",
   "name": "python",
   "nbconvert_exporter": "python",
   "pygments_lexer": "ipython3",
   "version": "3.7.4"
  }
 },
 "nbformat": 4,
 "nbformat_minor": 4
}
