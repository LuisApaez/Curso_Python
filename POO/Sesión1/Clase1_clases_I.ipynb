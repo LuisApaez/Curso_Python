{
 "cells": [
  {
   "cell_type": "markdown",
   "metadata": {},
   "source": [
    "# Curso de introducción a la programación con Python\n",
    "\n",
    "**Autor: Luis FernandoApáez Álvarez**\n",
    "\n",
    "## Clase 1:  Clases y objetos (Parte I)\n",
    "\n",
    "* [Clases](#parte1)\n",
    "    * [Terminología de una clase](#parte2)"
   ]
  },
  {
   "cell_type": "markdown",
   "metadata": {},
   "source": [
    "La programación orientada a objetos busca trasladar la naturaleza de los objetos de la vida real al código de programación, donde estos objetos tienen un estado, comportamiento y propiedades. Esta forma de programar  permite estructurar el código en fragmentos simples y reutilizables. Dentro de ella se encuentran los conceptos de **clases y objetos** los cuales serán abordados en las primeras clases."
   ]
  },
  {
   "cell_type": "markdown",
   "metadata": {},
   "source": [
    "\n",
    "## Clases <a id=\"parte1\"></a>\n",
    "\n",
    "Una **clase** es uno de los bloques básicos de <span style=\"color:rgb(10,10,150)\">python</span> además de ser un concepto primordial referente de la programación orientada a objetos.\n",
    "\n",
    "Podemos pensar a una **clase** como una plantilla de la cual pueden crearse **instancias** u **objetos**. Por ejemplo, podemos pensar a una _persona_ como una clase y a un objeto de esta clase una persona en específico, digamos Luis de 23 años de la Ciudad de México. Cabe resaltar que todas las instancias u objetos de una clase poseen las mismas variables de datos pero con diferentes valores, de modo que otro objeto de la clase _persona_ puede ser Eva de 20 años de Guanajuato.\n",
    "\n",
    "Ahora bien, crearemos nuestra primer clase siguiendo la sintaxis siguiente:"
   ]
  },
  {
   "cell_type": "code",
   "execution_count": 3,
   "metadata": {},
   "outputs": [],
   "source": [
    "# creamos la clase Persona\n",
    "\n",
    "class Persona:\n",
    "    pass"
   ]
  },
  {
   "cell_type": "code",
   "execution_count": null,
   "metadata": {},
   "outputs": [],
   "source": [
    "donde ``pass`` indica que nuestra clase no tiene contenido (por el momento). Veamos después que"
   ]
  },
  {
   "cell_type": "code",
   "execution_count": 4,
   "metadata": {},
   "outputs": [
    {
     "name": "stdout",
     "output_type": "stream",
     "text": [
      "<class 'type'>\n"
     ]
    }
   ],
   "source": [
    "print(type(Persona))"
   ]
  },
  {
   "cell_type": "code",
   "execution_count": 7,
   "metadata": {},
   "outputs": [
    {
     "name": "stdout",
     "output_type": "stream",
     "text": [
      "<class '__main__.Persona'>\n"
     ]
    }
   ],
   "source": [
    "# creamos un objeto de la clase Persona\n",
    "\n",
    "Eva = Persona()\n",
    "\n",
    "print(type(Eva))"
   ]
  },
  {
   "cell_type": "markdown",
   "metadata": {},
   "source": [
    "indica justamente que ``Persona`` es una clase. Más adelante veremos más a detalle la construcción de una clase, sin embargo es preciso ver primero algo más de teoría.\n",
    "\n",
    "### Terminología de una clase <a id=\"parte2\"></a>\n",
    "\n",
    "* Modularización: es una forma de organización de un programa en la que distintos componentes se dividen en unidades funcionales separadas. Por ejemplo podemos pensar un carro como un programa con muchas clases, desde la clase llantas hasta la clase estereo, donde cada una de estas clases puede funcionar de manera separada.\n",
    "\n",
    "* Atributos: son la información referente de un objeto. Por ejemplo, dada la clase _persona_ y tomando una persona en específico como objeto, digamos Eva de 20 años de Guanajuato; tenemos que tanto el nombre, la edad y la ciudad son atributos (información) de dicho objeto.\n",
    "\n",
    "* Métodos: son procedimientos definidos dentro del objeto. Para crear métodos dentro del objeto usaremos la palabra reservada ``def`` como la utilizabamos en funciones. La diferencia es que, la palabra ``def`` por sí sola es referente a las funciones, sin embargo, la palabra ``def`` dentro de una clase hará referencia a un método. La sintaxis básica de una método (función dentro de una clase) es:"
   ]
  },
  {
   "cell_type": "code",
   "execution_count": null,
   "metadata": {},
   "outputs": [],
   "source": [
    "def nombre_funcion(self):\n",
    "    pass"
   ]
  },
  {
   "cell_type": "markdown",
   "metadata": {},
   "source": [
    "Como vimos líneas arriba, ``pass`` indica que el método no hace nada; luego ``self`` es un parámetro por defecto y que hace referencia al objeto perteneciente a dicha clase. Más adelante se irán aclarando más estos conceptos."
   ]
  },
  {
   "cell_type": "markdown",
   "metadata": {},
   "source": [
    "* Herencia: entre clases que se relacionen, las propiedades pueden transmitirse. Por ejemplo, de la clase _mamífero_ pueden heredarse propiedades a las clases _gato_ y _perro_, digamos por ejemplo la reproducción. De esta manera no es necesario crear el método reproducción para cada una de las clases _gato_ y _perro_ pues basta con generalizarlo en el método correspondiente a la clase _mamífero_ para poder heredarlo a otras clases.\n",
    "\n",
    "* Encapsulamiento: \n",
    "\n",
    "* Polimorfismo: es la habiliadad para los distintos objetos de una clase de responder al mismo método de manera distinta. Por ejemplo, podemos considerar la clase _animal_ y un método que indique la forma en que los objetos de dicha clase se comunican. De tal manera, empleando dicho método al objeto _perro_ dentro de la clase _animal_ tendremos un ladrido; empleando dicho método al objeto _gato_ dentro de la clase _animal_ tendremos un maullido, etcétera. Es así como los distintos objetos de la clase _animal_ tienen respuestas distintas respecto a un mismo método. "
   ]
  },
  {
   "cell_type": "markdown",
   "metadata": {},
   "source": [
    "* Más sobre un _objeto_: Para **acceder** a los atributos y métodos disponibles para un objeto utilizaremos la nomenclatura del punto. Por ejemplo, considerando a Luis como un objeto de la clase _persona_ podemos acceder a sus atributos utilizando \n",
    "\n",
    "```\n",
    "Luis.edad = 23\n",
    "Luis.ciudad = ciudad de México\n",
    ".\n",
    ".\n",
    "etcétera\n",
    "```\n",
    "\n",
    "así como acceder al comportamiento del objeto (métodos) como\n",
    "\n",
    "```\n",
    "Luis.hablar()\n",
    "Luis.correr()\n",
    ".\n",
    ".\n",
    "etcétera\n",
    "```"
   ]
  },
  {
   "cell_type": "markdown",
   "metadata": {},
   "source": [
    "Una vez visto lo anterior podemos mejora el código de nuestra clase _persona_ agregando algunos atributos y métodos:"
   ]
  },
  {
   "cell_type": "code",
   "execution_count": 3,
   "metadata": {},
   "outputs": [],
   "source": [
    "# creamos la clase Persona \n",
    "\n",
    "class Persona():\n",
    "    \n",
    "    # de manera simple podemos agregar estos atributos\n",
    "    ojos = 2\n",
    "    brazos = 2\n",
    "    piernas = 2\n",
    "    nariz = 1\n",
    "    hablando = False\n",
    "    corriendo = False\n",
    "    \n",
    "    # después los siguientes métodos\n",
    "    def hablar(self):\n",
    "        self.hablando = True\n",
    "    \n",
    "    def correr(self):\n",
    "        self.corriendo = True\n",
    "    \n",
    "# creamos un objeto para dicha clase\n",
    "\n",
    "Luis = Persona()        \n",
    "\n",
    "# lo anterior se conoce como instanciar una clase"
   ]
  },
  {
   "cell_type": "markdown",
   "metadata": {},
   "source": [
    "después, podemos ver los atributos de dicho objeto recurriendo a la nomenclatura del punto"
   ]
  },
  {
   "cell_type": "code",
   "execution_count": 5,
   "metadata": {
    "scrolled": true
   },
   "outputs": [
    {
     "name": "stdout",
     "output_type": "stream",
     "text": [
      "Algunos atributos: \n",
      "2\n",
      "1\n",
      "------------------------------\n",
      "Algunos comportamientos (métodos): \n",
      "True\n",
      "True\n"
     ]
    }
   ],
   "source": [
    "print('Algunos atributos: ')\n",
    "\n",
    "print(Luis.ojos)\n",
    "print(Luis.nariz)\n",
    "\n",
    "print('-' * 30)\n",
    "\n",
    "print('Algunos comportamientos (métodos): ')\n",
    "\n",
    "# aplicamos los métodos\n",
    "Luis.hablar()\n",
    "Luis.correr()\n",
    "\n",
    "# veamos el resultado\n",
    "print(Luis.hablando)\n",
    "print(Luis.corriendo)"
   ]
  },
  {
   "cell_type": "markdown",
   "metadata": {},
   "source": [
    "A partir de este punto podemos observar mejor como la declaración del método ``hablar()``\n",
    "\n",
    "```\n",
    "    def hablar(self):\n",
    "        self.hablando = True\n",
    "```\n",
    "\n",
    "dentro de nuestra clase toma como parámetro la palabra reservada ``self`` y la cual actúa de la siguiente manera:\n",
    "\n",
    "* cuando accedemos al método ``hablar()`` mediante el objeto Luis utilizamos ``Luis.hablar()``\n",
    "* así, el parámetro ``self`` en este caso toma el valor de ``Luis`` de modo que podemos ver actuar al método dentro de la clase como\n",
    "\n",
    "```\n",
    "    def hablar(Luis):\n",
    "        Luis.hablando = True\n",
    "```\n",
    "\n",
    "* es por ello que al ejecutar ``print(Luis.hablando)`` el resultado es ``True`` en vez de ``False`` como se declaraba en los atributos de la clase."
   ]
  }
 ],
 "metadata": {
  "kernelspec": {
   "display_name": "Python 3",
   "language": "python",
   "name": "python3"
  },
  "language_info": {
   "codemirror_mode": {
    "name": "ipython",
    "version": 3
   },
   "file_extension": ".py",
   "mimetype": "text/x-python",
   "name": "python",
   "nbconvert_exporter": "python",
   "pygments_lexer": "ipython3",
   "version": "3.7.4"
  }
 },
 "nbformat": 4,
 "nbformat_minor": 4
}
