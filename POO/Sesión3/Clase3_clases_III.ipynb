{
 "cells": [
  {
   "cell_type": "markdown",
   "metadata": {},
   "source": [
    "# Curso de introducción a la programación con Python\n",
    "\n",
    "**Autor: Luis Fernando Apáez Álvarez**\n",
    "\n",
    "## Clase 3:  Clases y objetos (Parte II)\n",
    "\n",
    "* [Modificando los atributos de un objeto](#parte1)\n",
    "    * [Nuevos atributos](#parte2)"
   ]
  },
  {
   "cell_type": "markdown",
   "metadata": {},
   "source": [
    "## Modificando los atributos de un objeto <a id=\"parte1\"></a>\n",
    "\n",
    "Recordemos de la sesión pasada el código de la clase _Persona_: "
   ]
  },
  {
   "cell_type": "code",
   "execution_count": 1,
   "metadata": {},
   "outputs": [],
   "source": [
    "# Creamos la clase Persona \n",
    "\n",
    "class Persona():\n",
    "    \n",
    "    # Creamos el constructor (método inicializador)\n",
    "    \n",
    "    def __init__(self, nombre):\n",
    "        self.nombre = nombre\n",
    "        self.ojos = 2\n",
    "        self.brazos = 2\n",
    "        self.piernas = 2\n",
    "        self.nariz = 1\n",
    "        self.hablando = False\n",
    "        self.corriendo = False\n",
    "    \n",
    "    # Después los siguientes métodos\n",
    "    \n",
    "    # agregamos un parámetro\n",
    "    def hablar(self, msj):\n",
    "        self.hablando = True\n",
    "        mensaje = msj\n",
    "        \n",
    "        if self.hablando:\n",
    "            print(mensaje)\n",
    "    \n",
    "    def correr(self):\n",
    "        self.corriendo = True\n",
    "        \n",
    "# Creamos un objeto de esta clase\n",
    "Luis = Persona('Luis')"
   ]
  },
  {
   "cell_type": "markdown",
   "metadata": {},
   "source": [
    "Ahora bien, sabemos que podemos acceder a los atributos iniciales (dados por el constructor) utilizando la nomenclatura del punto. Por ejemplo"
   ]
  },
  {
   "cell_type": "code",
   "execution_count": 2,
   "metadata": {
    "scrolled": true
   },
   "outputs": [
    {
     "name": "stdout",
     "output_type": "stream",
     "text": [
      "Hola, soy Luis\n"
     ]
    }
   ],
   "source": [
    "print(f'Hola, soy {Luis.nombre}')"
   ]
  },
  {
   "cell_type": "code",
   "execution_count": 3,
   "metadata": {},
   "outputs": [
    {
     "name": "stdout",
     "output_type": "stream",
     "text": [
      "2\n"
     ]
    }
   ],
   "source": [
    "# accediendo a un atributo de la clase persona\n",
    "\n",
    "print(Luis.ojos)"
   ]
  },
  {
   "cell_type": "markdown",
   "metadata": {},
   "source": [
    "Luego, de la misma forma en que podemos acceder a los atributos de un objeto podemos modificarlos utilizando también la nomenclatura del punto. Por ejemplo podemos cambiar el atributo ``nombre`` del objeto ``Luis``"
   ]
  },
  {
   "cell_type": "code",
   "execution_count": 4,
   "metadata": {},
   "outputs": [
    {
     "name": "stdout",
     "output_type": "stream",
     "text": [
      "Luis Fernando\n"
     ]
    }
   ],
   "source": [
    "# modificando el atributo nombre\n",
    "\n",
    "Luis.nombre = 'Luis Fernando'\n",
    "\n",
    "# veamos el resultado\n",
    "\n",
    "print(Luis.nombre)"
   ]
  },
  {
   "cell_type": "code",
   "execution_count": 5,
   "metadata": {},
   "outputs": [
    {
     "name": "stdout",
     "output_type": "stream",
     "text": [
      "True\n"
     ]
    }
   ],
   "source": [
    "# modificando el atributo corriendo de False a True\n",
    "\n",
    "Luis.corriendo = True\n",
    "\n",
    "# veamos el resultado\n",
    "\n",
    "print(Luis.corriendo)"
   ]
  },
  {
   "cell_type": "markdown",
   "metadata": {},
   "source": [
    "Por otro lado, recordemos que para invocar un método escribiamos"
   ]
  },
  {
   "cell_type": "code",
   "execution_count": 6,
   "metadata": {},
   "outputs": [
    {
     "name": "stdout",
     "output_type": "stream",
     "text": [
      "True\n"
     ]
    }
   ],
   "source": [
    "Luis.correr()\n",
    "\n",
    "print(Luis.corriendo)"
   ]
  },
  {
   "cell_type": "markdown",
   "metadata": {},
   "source": [
    "pero existe una alternativa para ejecutar la misma acción, donde colocaremos primero el nombre de la clase, después el nombre del método y como parámetro de éste el objeto el cual deseamos que invoque dicho método (claro está, utilizando la nomenclatura del punto). Esto es"
   ]
  },
  {
   "cell_type": "code",
   "execution_count": 7,
   "metadata": {},
   "outputs": [
    {
     "name": "stdout",
     "output_type": "stream",
     "text": [
      "True\n"
     ]
    }
   ],
   "source": [
    "# nombre de la clase/ nombre del método/ como parámetro el objeto que invoca el método\n",
    "Persona.correr(Luis)\n",
    "\n",
    "print(Luis.corriendo)"
   ]
  },
  {
   "cell_type": "markdown",
   "metadata": {},
   "source": [
    "Sin embargo esta última forma no es tan común de emplearse por lo que seguiremos trabajando con la primera manera. "
   ]
  },
  {
   "cell_type": "markdown",
   "metadata": {},
   "source": [
    "### Nuevos atributos <a id=\"parte2\"></a>\n",
    "\n",
    "Además de los atributos ya dados en el constructor, podemos agregar nuevos atributos. Por ejemplo, podemos agregar el atributo ``edad`` al objeto ``Luis`` como sigue"
   ]
  },
  {
   "cell_type": "code",
   "execution_count": 10,
   "metadata": {},
   "outputs": [
    {
     "name": "stdout",
     "output_type": "stream",
     "text": [
      "La edad de Luis Fernando es de 23 años\n"
     ]
    }
   ],
   "source": [
    "# agregando un atributo nuevo al objeto Luis\n",
    "\n",
    "Luis.edad = 23\n",
    "\n",
    "print(f'La edad de {Luis.nombre} es de {Luis.edad} años')"
   ]
  },
  {
   "cell_type": "markdown",
   "metadata": {},
   "source": [
    "Sin embargo, el atributo nuevo que hemos agregado al objeto ``Luis`` no estará disponible para los demás objetos:"
   ]
  },
  {
   "cell_type": "code",
   "execution_count": 11,
   "metadata": {
    "scrolled": true
   },
   "outputs": [
    {
     "ename": "AttributeError",
     "evalue": "'Persona' object has no attribute 'edad'",
     "output_type": "error",
     "traceback": [
      "\u001b[1;31m---------------------------------------------------------------------------\u001b[0m",
      "\u001b[1;31mAttributeError\u001b[0m                            Traceback (most recent call last)",
      "\u001b[1;32m<ipython-input-11-540d88242dd6>\u001b[0m in \u001b[0;36m<module>\u001b[1;34m\u001b[0m\n\u001b[0;32m      3\u001b[0m \u001b[0mEva\u001b[0m \u001b[1;33m=\u001b[0m \u001b[0mPersona\u001b[0m\u001b[1;33m(\u001b[0m\u001b[1;34m'Eva'\u001b[0m\u001b[1;33m)\u001b[0m\u001b[1;33m\u001b[0m\u001b[1;33m\u001b[0m\u001b[0m\n\u001b[0;32m      4\u001b[0m \u001b[1;33m\u001b[0m\u001b[0m\n\u001b[1;32m----> 5\u001b[1;33m \u001b[0mprint\u001b[0m\u001b[1;33m(\u001b[0m\u001b[0mEva\u001b[0m\u001b[1;33m.\u001b[0m\u001b[0medad\u001b[0m\u001b[1;33m)\u001b[0m\u001b[1;33m\u001b[0m\u001b[1;33m\u001b[0m\u001b[0m\n\u001b[0m",
      "\u001b[1;31mAttributeError\u001b[0m: 'Persona' object has no attribute 'edad'"
     ]
    }
   ],
   "source": [
    "# creamos un objeto nuevo de la clase Persona\n",
    "\n",
    "Eva = Persona('Eva')\n",
    "\n",
    "print(Eva.edad)"
   ]
  },
  {
   "cell_type": "markdown",
   "metadata": {},
   "source": [
    "Finalmente, es preciso mencionar que la modificación de los atributos a los dados originalmente no es una práctica muy deseable en muchos casos. Por ejemplo, si consideramos el atributo ``self.nariz = 1`` y después lo modificamos"
   ]
  },
  {
   "cell_type": "code",
   "execution_count": 12,
   "metadata": {},
   "outputs": [
    {
     "name": "stdout",
     "output_type": "stream",
     "text": [
      "4\n"
     ]
    }
   ],
   "source": [
    "Luis.nariz = 4\n",
    "\n",
    "print(Luis.nariz)"
   ]
  },
  {
   "cell_type": "markdown",
   "metadata": {},
   "source": [
    "sería una acción que no tendría mucho sentido y que no debería de permitirse. Para ello utilizaremos el concepto de _encapsulamiento_ el cual abordaremos en las siguientes sesiones."
   ]
  }
 ],
 "metadata": {
  "kernelspec": {
   "display_name": "Python 3",
   "language": "python",
   "name": "python3"
  },
  "language_info": {
   "codemirror_mode": {
    "name": "ipython",
    "version": 3
   },
   "file_extension": ".py",
   "mimetype": "text/x-python",
   "name": "python",
   "nbconvert_exporter": "python",
   "pygments_lexer": "ipython3",
   "version": "3.7.4"
  }
 },
 "nbformat": 4,
 "nbformat_minor": 4
}
