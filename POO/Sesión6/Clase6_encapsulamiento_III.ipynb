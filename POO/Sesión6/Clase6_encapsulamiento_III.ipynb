{
 "cells": [
  {
   "cell_type": "markdown",
   "metadata": {},
   "source": [
    "# Curso de introducción a la programación con Python\n",
    "\n",
    "**Autor: Luis Fernando Apáez Álvarez**\n",
    "\n",
    "## Clase 6: Conceptos adicionales\n",
    "\n",
    "* [Atributos de sólo lectura](#parte1)  \n",
    "* [Mensaje final sobre Get y Set ](#parte2)  \n",
    "* [Métodos especiales](#parte3)\n",
    "    * [Destructor de Objetos](#parte4)\n",
    "    * [Método para mostrar objetos](#parte5)"
   ]
  },
  {
   "cell_type": "markdown",
   "metadata": {},
   "source": [
    "## Atributos de sólo lectura <a id=\"parte1\"></a>\n",
    "\n",
    "Retomando el código de la clase _Punto_ visto en la sesión anterior"
   ]
  },
  {
   "cell_type": "code",
   "execution_count": null,
   "metadata": {},
   "outputs": [],
   "source": [
    "# Definimos al clase Punto\n",
    "\n",
    "class Punto():\n",
    "    \n",
    "    # Creamos el constructor\n",
    "    def __init__(self, x, y):\n",
    "        \n",
    "        # Los atributos deberán estar encapsulados\n",
    "        self.__x = x\n",
    "        self.__y = y\n",
    "        \n",
    "    # Creamos el método get para retornar los atributos en conjunto\n",
    "    # del decorador Property\n",
    "    \n",
    "    @property\n",
    "    def x(self):\n",
    "        return self.__x\n",
    "    \n",
    "    @property\n",
    "    def y(self):\n",
    "        return self.__y\n",
    "    \n",
    "    # Creamos el método set para modificar el valor de los atributos\n",
    "    # en conjunto del decorador nombre_del_atributo.setter\n",
    "    \n",
    "    @x.setter\n",
    "    def x(self, x):\n",
    "        self.__x = x\n",
    "    \n",
    "    @y.setter\n",
    "    def y(self, y):\n",
    "        self.__y = y "
   ]
  },
  {
   "cell_type": "markdown",
   "metadata": {},
   "source": [
    "cuando tenemos atributos encapsulados y los métodos ``get`` y ``set`` asociados, podemos convertir a dicho atributo en un atributo de sólo lectura si quitamos la parte del método ``set`` en nuestro código. Lo cual es totalmente lógico pues el método ``set`` es el que nos permite la modificación del atributo, a diferencia del método ``get`` el cual nos permite \"leer\" dicho atributo.\n",
    "\n",
    "Por ende, los atributos de sólo lectura son atributos encapsulados que carecen de un método ``set`` para modificarlos."
   ]
  },
  {
   "cell_type": "markdown",
   "metadata": {},
   "source": [
    "## Mensaje final sobre Get y Set <a id=\"parte2\"></a>\n",
    "\n",
    "Después de poner en práctica el conocimiento adquirido sobre los métodos ``get`` y ``set`` y sobre el encapsulamiento de atributos y métodos en <span style=\"color:rgb(10,10,150)\">Python</span>, es necesario recordar dos hechos importantes:\n",
    "\n",
    "<ol>\n",
    "<li>Para declarar un atributo (o método) privado  existe la convención en <span style=\"color:rgb(10,10,150)\">Python</span> de utilizar un guión bajo como prefijo al nombre del atributo, sin embargo, al realizar esta acción no se garantiza la encapsulación propiamente, pues podemos acceder de forma usual a dicho atributo (o método) y modificarlo. Más bien este guión bajo funge como indicador, para el desarrollador, que dicho atributo (o método) debe tratarse como privado. </li>\n",
    "\n",
    "<li>Originalmente el doble guión bajo tiene otra función dentro de <span style=\"color:rgb(10,10,150)\">Python</span> que la que le hemos dado, es decir, el doble guión bajo no es propiamente para la encapsulación, aunque así lo hemos tratado con fines ilustrativos. De hecho, la parte referente a los métodos ``get`` y ``set`` (y en general sobre la encapsulación en <span style=\"color:rgb(10,10,150)\">Python</span>) tiene como fin dar un tratamiento decente sobre estos métodos en la programación orientada a objetos, pues en <span style=\"color:rgb(10,10,150)\">Python</span> estos temas están de más dada su naturaleza. \n",
    "    \n",
    "Por ejemplo podemos recordar nuevamente el código de la clase <i>Punto</i>\n",
    "</li>    \n",
    "</ol>\n",
    "\n",
    "```\n",
    "# Definimos la clase Punto\n",
    "\n",
    "class Punto():\n",
    "    \n",
    "    # Creamos el constructor\n",
    "    def __init__(self, x, y):\n",
    "        \n",
    "        # Los atributos deberán estar encapsulados\n",
    "        self.__x = x\n",
    "        self.__y = y\n",
    "        \n",
    "    # Creamos el método get para retornar los atributos en conjunto\n",
    "    # del decorador Property\n",
    "    \n",
    "    @property\n",
    "    def x(self):\n",
    "        return self.__x\n",
    "    \n",
    "    @property\n",
    "    def y(self):\n",
    "        return self.__y\n",
    "    \n",
    "    # Creamos el método set para modificar el valor de los atributos\n",
    "    # en conjunto del decorador nombre_del_atributo.setter\n",
    "    \n",
    "    @x.setter\n",
    "    def x(self, x):\n",
    "        self.__x = x\n",
    "    \n",
    "    @y.setter\n",
    "    def y(self, y):\n",
    "        self.__y = y \n",
    "```\n",
    "\n",
    "el cual, dentro de <span style=\"color:rgb(10,10,150)\">Python</span>, es totalmente equivalente a \n",
    "    \n",
    "```\n",
    "# Definimos al clase Punto\n",
    "\n",
    "class Punto():\n",
    "    \n",
    "    # Creamos el constructor\n",
    "    def __init__(self, x, y):\n",
    "        \n",
    "        # Atributos de la clase\n",
    "        self.x = x\n",
    "        self.y = y   \n",
    "```\n",
    "    \n",
    "siendo éste último más eficiente respecto al primero, donde ambas versiones del código de la clase realizan las mismas funcionalidades.\n"
   ]
  },
  {
   "cell_type": "markdown",
   "metadata": {},
   "source": [
    "Por ende, utilizar ``getters`` y ``setters`` dentro de <span style=\"color:rgb(10,10,150)\">Python</span> es redundante. En lo que sigue, y cuando sea necesario, el tratamiento de los atributos privados se adaptará a la convención de utilizar un solo guión bajo y sin manejar ``getters`` y ``setters``; sin embargo, el conocimiento que adquirimos no será en vano, pues el tratamiento expuesto sobre dichos métodos y sobre la encapsulación es muy útil dentro de otros lenguajes de programación, tales como <span style=\"color:rgb(200,10,10)\">Java</span>."
   ]
  },
  {
   "cell_type": "markdown",
   "metadata": {},
   "source": [
    "## Métodos especiales <a id=\"parte3\"></a>\n",
    "\n",
    "Retomemos el código simplificado de la clase _Punto_ (sin todo el enrollo de los ``getters`` y ``setters``):"
   ]
  },
  {
   "cell_type": "code",
   "execution_count": null,
   "metadata": {},
   "outputs": [],
   "source": [
    "# Definimos al clase Punto\n",
    "class Punto():\n",
    "    \n",
    "    # Creamos el constructor\n",
    "    def __init__(self, x, y):\n",
    "        \n",
    "        # Atributos de la clase\n",
    "        self.x = x\n",
    "        self.y = y  "
   ]
  },
  {
   "cell_type": "markdown",
   "metadata": {},
   "source": [
    "Como vimos en las primeras sesiones sobre _Clases y Objetos_ el método ``__init__`` es un método especial y tiene el papel de ser el **contructor** de la clase. Así como el método ``__init__``, tenemos otros tipos de métodos especiales.\n",
    "\n",
    "### Destructor de objetos<a id=\"parte4\"></a>\n",
    "\n",
    "El método _Destructor de objetos_ (``__del__``) es llamado cuando la instancia será borrada. De tal manera podemos ejecutar ciertas acciones, según sea el caso, cuando nuestro objeto es borrado.\n",
    "\n",
    "Cabe resaltar que eliminar y borrar son conceptos distintos pues, si eliminamos un objeto lo que conseguimos hacer es ir disminuyendo el número de referencias sobre sobre él y cuando dicho número de referencias llegue a cero, entonces el método destructor ``__del__`` será llamado, desencadenando las acciones que previamente hemos definido en él y realizando lo mínimo imprescindible en cuanto a la limpieza del objeto. De tal manera, el método es útil si es de nuestro interés liberar recursos de la memoria.\n",
    "\n",
    "Por ejemplo podemos implementar un método destructor para que retorne un mensaje una vez que el objeto ha sido borrado"
   ]
  },
  {
   "cell_type": "code",
   "execution_count": 6,
   "metadata": {},
   "outputs": [],
   "source": [
    "# Definimos al clase Punto\n",
    "class Punto():\n",
    "    \n",
    "    # Creamos el constructor\n",
    "    def __init__(self, x, y):\n",
    "        \n",
    "        # Atributos de la clase\n",
    "        self.x = x\n",
    "        self.y = y  \n",
    "        \n",
    "    # Creamos el desctructor\n",
    "    def __del__(self):\n",
    "        print(f'El punto {self.x, self.y} ha sido borrado')"
   ]
  },
  {
   "cell_type": "code",
   "execution_count": 7,
   "metadata": {},
   "outputs": [
    {
     "name": "stdout",
     "output_type": "stream",
     "text": [
      "----Destrucción del objeto----\n",
      "El punto (2, 1) ha sido borrado\n"
     ]
    }
   ],
   "source": [
    "# Creamos un objeto de la clase Punto\n",
    "p1 = Punto(2,1)\n",
    "\n",
    "print('Destrucción del objeto'.center(30,'-'))\n",
    "\n",
    "# Probamos el método destructor\n",
    "del p1"
   ]
  },
  {
   "cell_type": "markdown",
   "metadata": {},
   "source": [
    "No obstante, en <span style=\"color:rgb(10,10,150)\">Python</span> existe algo denominado _recolector de basura_ el cual hace la limpieza correspondiente en la memoria de variables a las cuales no se les está apuntando, es decir variables que tienen cero número de referencias. Es por ello que este método especial es poco común dentro de <span style=\"color:rgb(10,10,150)\">Python</span>. "
   ]
  },
  {
   "cell_type": "markdown",
   "metadata": {},
   "source": [
    "### Método para mostrar objetos<a id=\"parte5\"></a>\n",
    "\n",
    "Recordemos de la práctica 2 que, cuando creamos el código de la clase _Punto_, definimos un método para mostrar el punto que se crea una vez instanciamos la clase\n",
    "\n",
    "```\n",
    "# Creamos un método para mostrar el punto ingresado\n",
    "\n",
    "    def mostrar(self):\n",
    "        return f'({self.__x},{self.__y})'\n",
    "```\n",
    "\n",
    "Ahora bien, para el caso especifico de **mostrar** objetos en <span style=\"color:rgb(10,10,150)\">Python</span> tenemos un método especial denominado ``__str__``, el cual debe devolver una cadena de carácteres con lo que queremos mostrar. Es así como el método ``__str__`` retorna una cadena que puede ser usada para representar apropiadamente información sobre la clase.\n",
    "\n",
    "Por ejemplo, en vez de utilizar el método ``mostrar()`` que usamos en la práctica 2, podemos implementar un método ``__str__`` como"
   ]
  },
  {
   "cell_type": "code",
   "execution_count": 11,
   "metadata": {},
   "outputs": [],
   "source": [
    "# Definimos al clase Punto\n",
    "class Punto():\n",
    "    \n",
    "    # Creamos el constructor\n",
    "    def __init__(self, x, y):\n",
    "        \n",
    "        # Atributos de la clase\n",
    "        self.x = x\n",
    "        self.y = y \n",
    "        \n",
    "    # Creamos el método para mostrar objetos\n",
    "    def __str__(self):\n",
    "        return f'({self.x}, {self.y})'"
   ]
  },
  {
   "cell_type": "code",
   "execution_count": 12,
   "metadata": {},
   "outputs": [
    {
     "data": {
      "text/plain": [
       "'(-1, 1)'"
      ]
     },
     "execution_count": 12,
     "metadata": {},
     "output_type": "execute_result"
    }
   ],
   "source": [
    "# Creamos un objeto de la clase Punto\n",
    "p2 = Punto(-1,1)\n",
    "\n",
    "# Invocamos el método __str__ utilizando str()\n",
    "str(p2)"
   ]
  },
  {
   "cell_type": "code",
   "execution_count": 13,
   "metadata": {},
   "outputs": [
    {
     "name": "stdout",
     "output_type": "stream",
     "text": [
      "(-1, 1)\n"
     ]
    }
   ],
   "source": [
    "# o alternativamente podemos escribir simplemente\n",
    "\n",
    "print(p2)"
   ]
  },
  {
   "cell_type": "markdown",
   "metadata": {},
   "source": [
    "Es importante recalcar que el método ``__str__`` sólo devuelve cadenas de texto."
   ]
  }
 ],
 "metadata": {
  "kernelspec": {
   "display_name": "Python 3",
   "language": "python",
   "name": "python3"
  },
  "language_info": {
   "codemirror_mode": {
    "name": "ipython",
    "version": 3
   },
   "file_extension": ".py",
   "mimetype": "text/x-python",
   "name": "python",
   "nbconvert_exporter": "python",
   "pygments_lexer": "ipython3",
   "version": "3.7.4"
  }
 },
 "nbformat": 4,
 "nbformat_minor": 4
}
